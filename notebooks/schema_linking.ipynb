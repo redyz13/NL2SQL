{
 "cells": [
  {
   "cell_type": "code",
   "execution_count": 1,
   "id": "d477aa50",
   "metadata": {},
   "outputs": [],
   "source": [
    "# 🔧 Setup & Import\n",
    "import sys\n",
    "import os\n",
    "\n",
    "sys.path.append(\n",
    "    os.path.join(\n",
    "        os.path.abspath(os.path.join(os.getcwd(), \"..\")) , \"src\"\n",
    "    )\n",
    ")\n",
    "\n",
    "from schema_linking.config.config import TOP_K_COLUMNS\n",
    "from schema_linking.schema.extract_schema import extract_active_column_texts\n",
    "from schema_linking.keywords.keyword_extractor import llm_keyword_extraction\n",
    "from schema_linking.retrieval.retriever import build_or_load_index, retrieve_top_k\n",
    "from schema_linking.llm.llm_linker import llm_table_linking, llm_column_linking, llm_filter_columns_by_keywords\n",
    "from schema_linking.utils.printer import (\n",
    "    print_header,\n",
    "    print_keywords,\n",
    "    pretty_print_list,\n",
    "    print_summary\n",
    ")\n",
    "from schema_linking.utils.schema_utils import (\n",
    "    build_table_description_map,\n",
    "    build_column_description_map\n",
    ")"
   ]
  },
  {
   "cell_type": "code",
   "execution_count": 2,
   "id": "d3f7f173",
   "metadata": {},
   "outputs": [
    {
     "name": "stdout",
     "output_type": "stream",
     "text": [
      "\n",
      "============================================================\n",
      "Input\n",
      "============================================================\n",
      "Question: Qual è l'indirizzo e la località delle banche con codice CAB 12345?\n"
     ]
    }
   ],
   "source": [
    "# ✍️ Input della Query\n",
    "print_header(\"Input\")\n",
    "question = \"Qual è l'indirizzo e la località delle banche con codice CAB 12345?\"\n",
    "print(f\"Question: {question}\")"
   ]
  },
  {
   "cell_type": "code",
   "execution_count": 7,
   "id": "929ebb8e",
   "metadata": {},
   "outputs": [
    {
     "name": "stdout",
     "output_type": "stream",
     "text": [
      "\n",
      "============================================================\n",
      "Step 1: Extracting keywords using LLM...\n",
      "============================================================\n"
     ]
    },
    {
     "name": "stderr",
     "output_type": "stream",
     "text": [
      "c:\\Workspace\\NL2SQL\\venv\\lib\\site-packages\\urllib3\\connectionpool.py:1097: InsecureRequestWarning: Unverified HTTPS request is being made to host '192.168.102.17'. Adding certificate verification is strongly advised. See: https://urllib3.readthedocs.io/en/latest/advanced-usage.html#tls-warnings\n",
      "  warnings.warn(\n"
     ]
    },
    {
     "name": "stdout",
     "output_type": "stream",
     "text": [
      "\n",
      "Keywords:\n",
      "1. banche\n",
      "2. indirizzo\n",
      "3. località\n",
      "4. codice CAB\n",
      "5. 12345\n"
     ]
    }
   ],
   "source": [
    "# 🔍 Step 1: Extracting keywords using LLM...\n",
    "print_header(\"Step 1: Extracting keywords using LLM...\")\n",
    "keywords = llm_keyword_extraction(question)\n",
    "print_keywords(keywords)"
   ]
  },
  {
   "cell_type": "code",
   "execution_count": 8,
   "id": "332b1f94",
   "metadata": {},
   "outputs": [
    {
     "name": "stdout",
     "output_type": "stream",
     "text": [
      "\n",
      "============================================================\n",
      "Step 2: Loading schema...\n",
      "============================================================\n",
      "Loading active fields from cache: c:\\Workspace\\NL2SQL\\data\\active_fields.parquet\n",
      "Loaded 3908 columns\n"
     ]
    }
   ],
   "source": [
    "# 🧱 Step 2: Schema extraction\n",
    "print_header(\"Step 2: Loading schema...\")\n",
    "column_texts = extract_active_column_texts()\n",
    "print(f\"Loaded {len(column_texts)} columns\")"
   ]
  },
  {
   "cell_type": "code",
   "execution_count": 9,
   "id": "025458fd",
   "metadata": {},
   "outputs": [
    {
     "name": "stdout",
     "output_type": "stream",
     "text": [
      "\n",
      "============================================================\n",
      "Step 3: FAISS column pruning (top 50) using keywords...\n",
      "============================================================\n",
      "Loading FAISS index from disk → c:\\Workspace\\NL2SQL\\data\\faiss_columns.bin\n",
      "\n",
      "Pruned Columns (FAISS):\n",
      "1. ba_bank.BACABCODE: Codice CAB (tabella: BA - Banche)\n",
      "2. ba_bank.BALOCALITY: Localit� banca (tabella: BA - Banche)\n",
      "3. ba_bank.BABANKID: Codice Banca (tabella: BA - Banche)\n",
      "4. ba_bank.BACODSTA: Codice stato (ISO) (tabella: BA - Banche)\n",
      "5. ba_bank.BACABDESCRI: Descrizione CAB (tabella: BA - Banche)\n",
      "6. ba_bank.BACODEST: Codice BIC Swift (tabella: BA - Banche)\n",
      "7. ba_caupar.CCOPEBAN: Tipo operazione bancaria (distinta) (tabella: CG - Causali partite scadenze)\n",
      "8. ba_bank.BAABICODE: Codice ABI (tabella: BA - Banche)\n",
      "9. ba_bank.BACAP: CAP Banca (tabella: BA - Banche)\n",
      "10. ba_bank.BAFLBANC: Tipo banca Nazionale/Estera (tabella: BA - Banche)\n",
      "11. ba_bank.BADESCRI: Descrizione (tabella: BA - Banche)\n",
      "12. ba_city.CTCAP: Codice Avviamento Postale (tabella: BA - Localit�)\n",
      "13. ba_bank.BAADDRESS: Indirizzo banca (tabella: BA - Banche)\n",
      "14. ba_caucon.CCNCRERI: Flag causale per note di credito da ricevere (tabella: CG - Causali contabili)\n",
      "15. ba_caucon.CCNCREEM: Flag causale per note di credito da emettere (tabella: CG - Causali contabili)\n",
      "16. ba_caupar.CCBANNOS: Flag nostra Banca obbligatoria (tabella: CG - Causali partite scadenze)\n",
      "17. ba_offices.OFPHONE: Numero Telefono 1 (tabella: CO Sedi/Recapiti)\n",
      "18. ba_offices.OFPHONE4: Numero Telefono 4 (tabella: CO Sedi/Recapiti)\n",
      "19. ap_piacon.PCCODICE: Codice conto (tabella: AP - Piano dei conti)\n",
      "20. ba_codcab.CBCODCAB: Codice CAB (tabella: BA - Codici CAB)\n",
      "21. ba_caupar.CCBANAPP: Flag Banca di appoggio obbligatoria (tabella: CG - Causali partite scadenze)\n",
      "22. ba_bank.BAPROV: Provincia (tabella: BA - Banche)\n",
      "23. ba_address_book.ADCODE: Codice rubrica (tabella: Rubriche)\n",
      "24. ba_contact.COCODBORN: Codice localit� di nascita (tabella: CO - Contatto)\n",
      "25. ba_caucon.CCFLCCOR: Tipo conto corrente (tabella: CG - Causali contabili)\n",
      "26. ba_city.CTCODFISC: Codice Comune per codice fiscale (tabella: BA - Localit�)\n",
      "27. ba_offices.OFPHONE3: Numero Telefono 3 (tabella: CO Sedi/Recapiti)\n",
      "28. ba_bank.DTINIVAL: Data inizio validit� (tabella: BA - Banche)\n",
      "29. ba_payment.PAPAYMENTID: Codice pagamento (tabella: BA - Pagamenti)\n",
      "30. ba_caupar.CCFLSTAM: Flag abilita stampa (in operazioni bancarie) (tabella: CG - Causali partite scadenze)\n",
      "31. ba_offices.OFGREENPHONE: Numero Verde (tabella: CO Sedi/Recapiti)\n",
      "32. ba_offices.OFPHONE2: Numero Telefono 2 (tabella: CO Sedi/Recapiti)\n",
      "33. ba_bank.FLACTIVE: Flag record attivo (tabella: BA - Banche)\n",
      "34. ba_caupar.CCFLCRCD: Flag credito ceduto (tabella: CG - Causali partite scadenze)\n",
      "35. ba_city.CTNATION: Codice Nazione (tabella: BA - Localit�)\n",
      "36. ba_contact.COBORNLOC: Localit� di nascita (tabella: CO - Contatto)\n",
      "37. ba_codcab.CBDESCAB: Descrizione Filiale (CAB) (tabella: BA - Codici CAB)\n",
      "38. ba_offices.OFPREPHONE: Prefisso Telefono 1 (tabella: CO Sedi/Recapiti)\n",
      "39. ba_codcab.CBCODABI: Codice ABI (tabella: BA - Codici CAB)\n",
      "40. ba_offices.OFFLFISC: Flag sede domicilio fiscale (tabella: CO Sedi/Recapiti)\n",
      "41. ba_payment.PAFLCARD: Flag pagamento tramite carta di credito (tabella: BA - Pagamenti)\n",
      "42. ba_offices.OFPREPHONE4: Prefisso Telefono 4 (tabella: CO Sedi/Recapiti)\n",
      "43. ba_payment.PASCOCOM: Sconto commerciale in percentuale (tabella: BA - Pagamenti)\n",
      "44. ba_codbil.RCCODICE: Codice (tabella: CG - Codice bilancio)\n",
      "45. ba_payment.PACODEXT: Codice esterno (tabella: BA - Pagamenti)\n",
      "46. ba_payment.PAPERSCO: Sconto finanziario in percentuale (tabella: BA - Pagamenti)\n",
      "47. ba_codbil.FLACTIVE: Flag conto attivo (tabella: CG - Codice bilancio)\n",
      "48. ba_caudoc.CDFATACC: Flag fattura di anticipo (tabella: DO - Causali documento)\n",
      "49. ap_compdic.DDPIACON: Codice conto (tabella: AP - Composizione dichiarazione)\n",
      "50. ba_contact.COVALUE: Codice Valuta (FK) (tabella: CO - Contatto)\n"
     ]
    }
   ],
   "source": [
    "# 🧠 Step 3: FAISS Pruning\n",
    "print_header(f\"Step 3: FAISS column pruning (top {TOP_K_COLUMNS}) using keywords...\")\n",
    "column_index, column_map = build_or_load_index(column_texts)\n",
    "pruned_columns = retrieve_top_k(column_index, column_map, question, TOP_K_COLUMNS)\n",
    "\n",
    "if pruned_columns:\n",
    "    pretty_print_list(\"Pruned Columns (FAISS)\", pruned_columns)\n",
    "else:\n",
    "    print(\"No columns found\")"
   ]
  },
  {
   "cell_type": "code",
   "execution_count": 10,
   "id": "2c5c5394",
   "metadata": {},
   "outputs": [
    {
     "name": "stdout",
     "output_type": "stream",
     "text": [
      "\n",
      "============================================================\n",
      "Step 4: LLM filtering on pruned columns...\n",
      "============================================================\n"
     ]
    },
    {
     "name": "stderr",
     "output_type": "stream",
     "text": [
      "c:\\Workspace\\NL2SQL\\venv\\lib\\site-packages\\urllib3\\connectionpool.py:1097: InsecureRequestWarning: Unverified HTTPS request is being made to host '192.168.102.17'. Adding certificate verification is strongly advised. See: https://urllib3.readthedocs.io/en/latest/advanced-usage.html#tls-warnings\n",
      "  warnings.warn(\n"
     ]
    },
    {
     "name": "stdout",
     "output_type": "stream",
     "text": [
      "\n",
      "Filtered Columns (LLM):\n",
      "1. ba_bank.BALOCALITY\n",
      "2. ba_bank.BACABCODE\n",
      "3. ba_bank.BACAP\n",
      "4. ba_bank.BAADDRESS\n"
     ]
    }
   ],
   "source": [
    "# 🧠 Step 4: LLM filtering on pruned columns\n",
    "print_header(\"Step 4: LLM filtering on pruned columns...\")\n",
    "llm_filtered_columns = llm_filter_columns_by_keywords(question, pruned_columns, keywords)\n",
    "\n",
    "if llm_filtered_columns:\n",
    "    pretty_print_list(\"Filtered Columns (LLM)\", llm_filtered_columns)\n",
    "else:\n",
    "    print(\"No columns passed the LLM filtering step\")"
   ]
  },
  {
   "cell_type": "code",
   "execution_count": 11,
   "id": "a543308e",
   "metadata": {},
   "outputs": [
    {
     "name": "stdout",
     "output_type": "stream",
     "text": [
      "\n",
      "============================================================\n",
      "Step 5: LLM-based table linking (using filtered columns)...\n",
      "============================================================\n"
     ]
    },
    {
     "name": "stderr",
     "output_type": "stream",
     "text": [
      "c:\\Workspace\\NL2SQL\\venv\\lib\\site-packages\\urllib3\\connectionpool.py:1097: InsecureRequestWarning: Unverified HTTPS request is being made to host '192.168.102.17'. Adding certificate verification is strongly advised. See: https://urllib3.readthedocs.io/en/latest/advanced-usage.html#tls-warnings\n",
      "  warnings.warn(\n"
     ]
    },
    {
     "name": "stdout",
     "output_type": "stream",
     "text": [
      "\n",
      "Linked Tables (LLM):\n",
      "1. ba_bank\n"
     ]
    }
   ],
   "source": [
    "# 🧮 Step 5: Table Linking via LLM\n",
    "print_header(\"Step 5: LLM-based table linking (using filtered columns)...\")\n",
    "table_desc_map = build_table_description_map(pruned_columns)\n",
    "candidate_tables = list(set(col.split('.')[0] for col in llm_filtered_columns))\n",
    "tables_with_desc = [f\"{table}: {table_desc_map.get(table, 'nessuna descrizione')}\" for table in candidate_tables]\n",
    "\n",
    "linked_tables = llm_table_linking(question, tables_with_desc)\n",
    "\n",
    "if linked_tables:\n",
    "    pretty_print_list(\"Linked Tables (LLM)\", linked_tables)\n",
    "else:\n",
    "    print(\"No tables linked by LLM\")"
   ]
  },
  {
   "cell_type": "code",
   "execution_count": 12,
   "id": "c3598265",
   "metadata": {},
   "outputs": [
    {
     "name": "stdout",
     "output_type": "stream",
     "text": [
      "\n",
      "============================================================\n",
      "Step 6: LLM-based final column linking...\n",
      "============================================================\n"
     ]
    },
    {
     "name": "stderr",
     "output_type": "stream",
     "text": [
      "c:\\Workspace\\NL2SQL\\venv\\lib\\site-packages\\urllib3\\connectionpool.py:1097: InsecureRequestWarning: Unverified HTTPS request is being made to host '192.168.102.17'. Adding certificate verification is strongly advised. See: https://urllib3.readthedocs.io/en/latest/advanced-usage.html#tls-warnings\n",
      "  warnings.warn(\n"
     ]
    },
    {
     "name": "stdout",
     "output_type": "stream",
     "text": [
      "\n",
      "============================================================\n",
      "Final Result\n",
      "============================================================\n",
      "Question: Qual è l'indirizzo e la località delle banche con codice CAB 12345?\n",
      "\n",
      "Keywords:\n",
      "1. banche\n",
      "2. indirizzo\n",
      "3. località\n",
      "4. codice CAB\n",
      "5. 12345\n",
      "\n",
      "Linked Tables (LLM):\n",
      "1. ba_bank\n",
      "\n",
      "Linked Columns (LLM):\n",
      "1. ba_bank.BAADDRESS\n",
      "2. ba_bank.BALOCALITY\n",
      "3. ba_bank.BACABCODE\n"
     ]
    }
   ],
   "source": [
    "# 🔗 Step 6: Final Column Linking\n",
    "print_header(\"Step 6: LLM-based final column linking...\")\n",
    "final_columns = [col for col in llm_filtered_columns if col.split('.')[0] in linked_tables]\n",
    "column_full_map = build_column_description_map(pruned_columns)\n",
    "final_column_descriptions = [column_full_map[c] for c in final_columns if c in column_full_map]\n",
    "\n",
    "linked_columns = llm_column_linking(question, final_column_descriptions)\n",
    "\n",
    "if linked_columns:\n",
    "    print_summary(question, keywords, linked_tables, linked_columns)\n",
    "else:\n",
    "    print(\"No columns linked by LLM\")"
   ]
  }
 ],
 "metadata": {
  "kernelspec": {
   "display_name": "venv",
   "language": "python",
   "name": "python3"
  },
  "language_info": {
   "codemirror_mode": {
    "name": "ipython",
    "version": 3
   },
   "file_extension": ".py",
   "mimetype": "text/x-python",
   "name": "python",
   "nbconvert_exporter": "python",
   "pygments_lexer": "ipython3",
   "version": "3.10.11"
  }
 },
 "nbformat": 4,
 "nbformat_minor": 5
}
