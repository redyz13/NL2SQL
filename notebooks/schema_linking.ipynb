{
 "cells": [
  {
   "cell_type": "code",
   "execution_count": 1,
   "id": "d477aa50",
   "metadata": {},
   "outputs": [],
   "source": [
    "# 🔧 Setup & Import\n",
    "import sys\n",
    "import os\n",
    "\n",
    "sys.path.append(\n",
    "    os.path.join(\n",
    "        os.path.abspath(os.path.join(os.getcwd(), \"..\")) , \"src\"\n",
    "    )\n",
    ")\n",
    "\n",
    "from schema_linking.schema.extract_schema import extract_column_texts\n",
    "from schema_linking.keywords.keyword_extractor import llama_keyword_extraction\n",
    "from schema_linking.retrieval.retriever import build_or_load_index, retrieve_top_k\n",
    "from schema_linking.llm.llama_linker import llama_table_linking, llama_column_linking, llama_filter_columns_by_keywords\n",
    "from schema_linking.utils.printer import (\n",
    "    print_header,\n",
    "    print_keywords,\n",
    "    pretty_print_list,\n",
    "    print_summary\n",
    ")\n",
    "from schema_linking.config.config import TOP_K_COLUMNS"
   ]
  },
  {
   "cell_type": "code",
   "execution_count": 48,
   "id": "d3f7f173",
   "metadata": {},
   "outputs": [
    {
     "name": "stdout",
     "output_type": "stream",
     "text": [
      "\n",
      "============================================================\n",
      "Input\n",
      "============================================================\n",
      "Question: Quali attività IVA risultano attive nel 2024?\n"
     ]
    }
   ],
   "source": [
    "# ✍️ Input della Query\n",
    "print_header(\"Input\")\n",
    "question = \"Quali attività IVA risultano attive nel 2024?\"\n",
    "print(f\"Question: {question}\")"
   ]
  },
  {
   "cell_type": "code",
   "execution_count": 44,
   "id": "36506563",
   "metadata": {},
   "outputs": [
    {
     "name": "stdout",
     "output_type": "stream",
     "text": [
      "\n",
      "============================================================\n",
      "Step 1: Extracting keywords using LLM...\n",
      "============================================================\n"
     ]
    },
    {
     "name": "stderr",
     "output_type": "stream",
     "text": [
      "c:\\Workspace\\NL2SQL\\venv\\lib\\site-packages\\urllib3\\connectionpool.py:1097: InsecureRequestWarning: Unverified HTTPS request is being made to host '192.168.102.17'. Adding certificate verification is strongly advised. See: https://urllib3.readthedocs.io/en/latest/advanced-usage.html#tls-warnings\n",
      "  warnings.warn(\n"
     ]
    },
    {
     "name": "stdout",
     "output_type": "stream",
     "text": [
      "\n",
      "Keywords:\n",
      "1. anno di dichiarazione\n",
      "2. 2011\n"
     ]
    }
   ],
   "source": [
    "# 🔍 Step 1: Extracting keywords using LLM...\n",
    "print_header(\"Step 1: Extracting keywords using LLM...\")\n",
    "keywords = llama_keyword_extraction(question)\n",
    "print_keywords(keywords)\n",
    "keyword_string = \" \".join(keywords)"
   ]
  },
  {
   "cell_type": "code",
   "execution_count": 39,
   "id": "332b1f94",
   "metadata": {},
   "outputs": [
    {
     "name": "stdout",
     "output_type": "stream",
     "text": [
      "\n",
      "============================================================\n",
      "Step 2: Loading schema...\n",
      "============================================================\n",
      "Loaded 47388 columns\n"
     ]
    }
   ],
   "source": [
    "# 🧱 Step 2: Schema extraction\n",
    "print_header(\"Step 2: Loading schema...\")\n",
    "column_texts = extract_column_texts()\n",
    "print(f\"Loaded {len(column_texts)} columns\")"
   ]
  },
  {
   "cell_type": "code",
   "execution_count": 40,
   "id": "025458fd",
   "metadata": {},
   "outputs": [
    {
     "name": "stdout",
     "output_type": "stream",
     "text": [
      "\n",
      "============================================================\n",
      "Step 3: FAISS column pruning (top 50) using keywords...\n",
      "============================================================\n",
      "Loading FAISS index from disk → c:\\Workspace\\NL2SQL\\data\\faiss_columns.bin\n",
      "\n",
      "Pruned Columns (FAISS):\n",
      "1. ap_dichiarazione.CD__ANNO: Anno di dichiarazione\n",
      "2. ri_prospst_2021.STSERIAL: Anno dichiarazione\n",
      "3. ri_prospst_2016.STSERIAL: Anno dichiarazione\n",
      "4. ri_prospst_2019.STSERIAL: Anno dichiarazione\n",
      "5. ri_prospst_2017.STSERIAL: Anno dichiarazione\n",
      "6. ri_prospst_2022.STSERIAL: Anno dichiarazione\n",
      "7. ri_dettsy_2019.CHCODENT: Codice ente previdenziale\n",
      "8. ri_prospst_2018.STSERIAL: Anno dichiarazione\n",
      "9. ri_prospst_2020.STSERIAL: Anno dichiarazione\n",
      "10. ri_dettsy_2016.CHCODENT: Codice ente previdenziale\n",
      "11. ri_dettsy_2019.CHDENENP: Denominazione ente previdenziale\n",
      "12. ri_dettsy_2021.CHDENENP: Denominazione ente previdenziale\n",
      "13. ri_dettsy_2021.CHCODENT: Codice ente previdenziale\n",
      "14. ri_dettsy_2016.CHDENENP: Denominazione ente previdenziale\n",
      "15. ri_dettsy_2022.CHDENENP: Denominazione ente previdenziale\n",
      "16. ri_catego.CAANNVAL: Anno di inserimento\n",
      "17. ri_dettsy_2022.CHCODENT: Codice ente previdenziale\n",
      "18. ri_dettsy_2017.CHCODENT: Codice ente previdenziale\n",
      "19. ri_dettsy_2017.CHDENENP: Denominazione ente previdenziale\n",
      "20. ri_dettsy_2020.CHDENENP: Denominazione ente previdenziale\n",
      "21. ri_prospst.STSERIAL: Anno dichiarazione\n",
      "22. ri_dettsy_2020.CHCODENT: Codice ente previdenziale\n",
      "23. ri_dettcu_h1_2019.CHDENENP: Denominazione ente previdenziale\n",
      "24. ri_dettsy_2022.CHRITACC: Ritenute a titolo d'acconto\n",
      "25. ri_dettsy_2019.CHSOMERE: Somme erogate(riservata al soggetto erogatore delle somme)\n",
      "26. ri_dettsy_2018.CHCODENT: Codice ente previdenziale\n",
      "27. ri_dettcu_h1_2019.CHRITSOS: Ritenute sospese\n",
      "28. ri_dettsy_2021.CHRITACC: Ritenute a titolo d'acconto\n",
      "29. ri_dettcu_h1_2019.CHRITACC: Ritenute a titolo d'acconto\n",
      "30. ri_dettcu_h1_2019.CHSOMERE: Somme erogate(riservata al soggetto erogatore delle somme)\n",
      "31. ri_prospsy_2016.CDCATPAR: Categorie particolari\n",
      "32. ri_dettsy_2018.CHDENENP: Denominazione ente previdenziale\n",
      "33. ri_dettsy_2021.CHSOMERE: Somme erogate(riservata al soggetto erogatore delle somme)\n",
      "34. ri_prospsy_2021.CDLOCAL2: Comune nuova residenza fiscale\n",
      "35. ri_dettcu_h1_2021.CHDENENP: Denominazione ente previdenziale\n",
      "36. ri_dettcu_h1_2016.CHDENENP: Denominazione ente previdenziale\n",
      "37. ri_prospsy_2019.CDCATPAR: Categorie particolari\n",
      "38. ri_prospsy_2021.CDCATPAR: Categorie particolari\n",
      "39. ri_prospsy_2019.CDLOCAL2: Comune nuova residenza fiscale\n",
      "40. ri_dettsy_2016.CHSOMERE: Somme erogate(riservata al soggetto erogatore delle somme)\n",
      "41. ri_mod770_2021.MDREDDIC: Redazione della dichiarazione\n",
      "42. ri_dettcu_h1_2017.CHRITACC: Ritenute a titolo d'acconto\n",
      "43. ri_dettcu_h1_2017.CHDENENP: Denominazione ente previdenziale\n",
      "44. ri_mod770_2021.MDSOGREV4: Tipo soggetto incaricato della relazione di revisione\n",
      "45. ri_dettcu_h1_2022.CHDENENP: Denominazione ente previdenziale\n",
      "46. ri_prospsy_2017.CDCATPAR: Categorie particolari\n",
      "47. ri_dettsy_2019.CHRITACC: Ritenute a titolo d'acconto\n",
      "48. ri_mod770_2019.MDREDDIC: Redazione della dichiarazione\n",
      "49. ri_mod770_2019.MDSOGREV4: Tipo soggetto incaricato della relazione di revisione\n",
      "50. ri_dettsy_2019.CHRITSOS: Ritenute sospese\n"
     ]
    }
   ],
   "source": [
    "# 🧠 Step 3: FAISS Pruning\n",
    "print_header(f\"Step 3: FAISS column pruning (top {TOP_K_COLUMNS}) using keywords...\")\n",
    "column_index, column_map = build_or_load_index(column_texts)\n",
    "pruned_columns = retrieve_top_k(column_index, column_map, keyword_string, TOP_K_COLUMNS)\n",
    "\n",
    "if pruned_columns:\n",
    "    pretty_print_list(\"Pruned Columns (FAISS)\", pruned_columns)\n",
    "else:\n",
    "    print(\"No columns found\")"
   ]
  },
  {
   "cell_type": "code",
   "execution_count": 17,
   "id": "2c5c5394",
   "metadata": {},
   "outputs": [
    {
     "name": "stdout",
     "output_type": "stream",
     "text": [
      "\n",
      "============================================================\n",
      "Step 4: LLM filtering on pruned columns...\n",
      "============================================================\n"
     ]
    },
    {
     "name": "stderr",
     "output_type": "stream",
     "text": [
      "c:\\Workspace\\NL2SQL\\venv\\lib\\site-packages\\urllib3\\connectionpool.py:1097: InsecureRequestWarning: Unverified HTTPS request is being made to host '192.168.102.17'. Adding certificate verification is strongly advised. See: https://urllib3.readthedocs.io/en/latest/advanced-usage.html#tls-warnings\n",
      "  warnings.warn(\n"
     ]
    },
    {
     "name": "stdout",
     "output_type": "stream",
     "text": [
      "\n",
      "Filtered Columns (LLM):\n",
      "1. - ri_mod770_2021.MDCFIREV4\n",
      "2. - ri_mod770_2019.MDCFIREV4\n",
      "3. - ri_mod770_2021.MDCFIREV5\n",
      "4. - ri_mod770_2019.MDCFIREV5\n",
      "5. - ri_mod770_2019.MDCFIREV2\n",
      "6. - ri_mod770_2021.MDCFIREV2\n",
      "7. - acbil_mrett_m.RENPROGVSCH\n",
      "8. - ba_diceme_2017_m.DECFIRAP\n",
      "9. - ba_diceme_2017_m.DECF2RAP\n",
      "10. - ri_mod770.MDCFIREV4\n",
      "11. - ri_mod770.MDCFIREV5\n",
      "12. - ri_mod770_2021.MDCFIREV\n",
      "13. - acbil_mrett_m.RECSEZNCONT\n",
      "14. - ri_dettsy_2019.CHCFALSO\n",
      "15. - ri_dettsy_2021.CHCFALSO\n",
      "16. - ri_mod770.MDCFIREV\n"
     ]
    }
   ],
   "source": [
    "# 🧠 Step 4: LLM filtering on pruned columns\n",
    "print_header(\"Step 4: LLM filtering on pruned columns...\")\n",
    "llm_filtered_columns = llama_filter_columns_by_keywords(keyword_string, pruned_columns, keywords)\n",
    "\n",
    "if llm_filtered_columns:\n",
    "    pretty_print_list(\"Filtered Columns (LLM)\", llm_filtered_columns)\n",
    "else:\n",
    "    print(\"No columns passed the LLM filtering step\")"
   ]
  },
  {
   "cell_type": "code",
   "execution_count": 12,
   "id": "a543308e",
   "metadata": {},
   "outputs": [
    {
     "name": "stdout",
     "output_type": "stream",
     "text": [
      "\n",
      "============================================================\n",
      "Step 5: LLM-based table linking (using filtered columns)...\n",
      "============================================================\n"
     ]
    },
    {
     "name": "stderr",
     "output_type": "stream",
     "text": [
      "c:\\Workspace\\NL2SQL\\venv\\lib\\site-packages\\urllib3\\connectionpool.py:1097: InsecureRequestWarning: Unverified HTTPS request is being made to host '192.168.102.17'. Adding certificate verification is strongly advised. See: https://urllib3.readthedocs.io/en/latest/advanced-usage.html#tls-warnings\n",
      "  warnings.warn(\n"
     ]
    },
    {
     "name": "stdout",
     "output_type": "stream",
     "text": [
      "\n",
      "Linked Tables (LLM):\n",
      "1. - ri_dettsy_2011\n",
      "2. - ri_dettcu_h1_2011\n"
     ]
    }
   ],
   "source": [
    "# 🧮 Step 5: Table Linking via LLM\n",
    "print_header(\"Step 5: LLM-based table linking (using filtered columns)...\")\n",
    "candidate_tables = list(set([col.split('.')[0] for col in llm_filtered_columns]))\n",
    "\n",
    "linked_tables = llama_table_linking(question, candidate_tables)\n",
    "\n",
    "if linked_tables:\n",
    "    pretty_print_list(\"Linked Tables (LLM)\", linked_tables)\n",
    "else:\n",
    "    print(\"No tables linked by LLM\")"
   ]
  },
  {
   "cell_type": "code",
   "execution_count": 14,
   "id": "c3598265",
   "metadata": {},
   "outputs": [
    {
     "name": "stdout",
     "output_type": "stream",
     "text": [
      "\n",
      "============================================================\n",
      "Step 6: LLM-based final column linking...\n",
      "============================================================\n"
     ]
    },
    {
     "name": "stderr",
     "output_type": "stream",
     "text": [
      "c:\\Workspace\\NL2SQL\\venv\\lib\\site-packages\\urllib3\\connectionpool.py:1097: InsecureRequestWarning: Unverified HTTPS request is being made to host '192.168.102.17'. Adding certificate verification is strongly advised. See: https://urllib3.readthedocs.io/en/latest/advanced-usage.html#tls-warnings\n",
      "  warnings.warn(\n"
     ]
    },
    {
     "name": "stdout",
     "output_type": "stream",
     "text": [
      "\n",
      "============================================================\n",
      "Final Result\n",
      "============================================================\n",
      "Question: Question: Quali sono le descrizioni di rigo delle voci contabili del 2011?\n",
      "\n",
      "Keywords:\n",
      "1. voci\n",
      "2. contabili\n",
      "3. 2011\n",
      "4. descrizioni\n",
      "5. di\n",
      "6. rigo\n",
      "\n",
      "Linked Tables (LLM):\n",
      "1. - ri_dettsy_2011\n",
      "2. - ri_dettcu_h1_2011\n",
      "\n",
      "Linked Columns (LLM):\n",
      "1. - ri_dettsy_2011.CHSOMERE\n",
      "2. - ri_dettsy_2011.CHRITOPE\n",
      "3. - ri_dettsy_2011.CHCODFI2\n",
      "4. - ri_dettsy_2011.RENPROGVSCH\n"
     ]
    }
   ],
   "source": [
    "# 🔗 Step 6: Final Column Linking\n",
    "print_header(\"Step 6: LLM-based final column linking...\")\n",
    "final_columns = [col for col in llm_filtered_columns if col.split('.')[0] in linked_tables]\n",
    "linked_columns = llama_column_linking(keyword_string, final_columns)\n",
    "\n",
    "if linked_columns:\n",
    "    print_summary(question, keywords, linked_tables, linked_columns)\n",
    "else:\n",
    "    print(\"No columns linked by LLM\")"
   ]
  }
 ],
 "metadata": {
  "kernelspec": {
   "display_name": "venv",
   "language": "python",
   "name": "python3"
  },
  "language_info": {
   "codemirror_mode": {
    "name": "ipython",
    "version": 3
   },
   "file_extension": ".py",
   "mimetype": "text/x-python",
   "name": "python",
   "nbconvert_exporter": "python",
   "pygments_lexer": "ipython3",
   "version": "3.10.11"
  }
 },
 "nbformat": 4,
 "nbformat_minor": 5
}
