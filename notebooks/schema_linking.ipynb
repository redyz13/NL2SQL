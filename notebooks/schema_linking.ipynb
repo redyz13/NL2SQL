{
 "cells": [
  {
   "cell_type": "code",
   "execution_count": 1,
   "id": "d477aa50",
   "metadata": {},
   "outputs": [],
   "source": [
    "# 🔧 Setup & Import\n",
    "import sys\n",
    "import os\n",
    "\n",
    "sys.path.append(\n",
    "    os.path.join(\n",
    "        os.path.abspath(os.path.join(os.getcwd(), \"..\")) , \"src\"\n",
    "    )\n",
    ")\n",
    "\n",
    "from schema_linking.schema.extract_schema import extract_column_texts\n",
    "from schema_linking.keywords.keyword_extractor import llama_keyword_extraction\n",
    "from schema_linking.retrieval.retriever import build_or_load_index, retrieve_top_k\n",
    "from schema_linking.llm.llama_linker import llama_table_linking, llama_column_linking, llama_filter_columns_by_keywords\n",
    "from schema_linking.utils.printer import (\n",
    "    print_header,\n",
    "    print_keywords,\n",
    "    pretty_print_list,\n",
    "    print_summary\n",
    ")\n",
    "from schema_linking.config.config import TOP_K_COLUMNS"
   ]
  },
  {
   "cell_type": "code",
   "execution_count": 2,
   "id": "d3f7f173",
   "metadata": {},
   "outputs": [
    {
     "name": "stdout",
     "output_type": "stream",
     "text": [
      "\n",
      "============================================================\n",
      "Input\n",
      "============================================================\n",
      "Question: Quali attività IVA risultano ancora valide nel 2024?\n"
     ]
    }
   ],
   "source": [
    "# ✍️ Input della Query\n",
    "print_header(\"Input\")\n",
    "question = \"Quali attività IVA risultano ancora valide nel 2024?\"\n",
    "print(f\"Question: {question}\")"
   ]
  },
  {
   "cell_type": "code",
   "execution_count": 5,
   "id": "36506563",
   "metadata": {},
   "outputs": [
    {
     "name": "stdout",
     "output_type": "stream",
     "text": [
      "\n",
      "============================================================\n",
      "Step 1: Extracting keywords using LLM...\n",
      "============================================================\n"
     ]
    },
    {
     "name": "stderr",
     "output_type": "stream",
     "text": [
      "c:\\Workspace\\NL2SQL\\venv\\lib\\site-packages\\urllib3\\connectionpool.py:1097: InsecureRequestWarning: Unverified HTTPS request is being made to host '192.168.102.17'. Adding certificate verification is strongly advised. See: https://urllib3.readthedocs.io/en/latest/advanced-usage.html#tls-warnings\n",
      "  warnings.warn(\n"
     ]
    },
    {
     "name": "stdout",
     "output_type": "stream",
     "text": [
      "\n",
      "Keywords:\n",
      "1. IVA\n",
      "2. attività\n",
      "3. 2024\n",
      "4. validità\n"
     ]
    }
   ],
   "source": [
    "# 🔍 Step 1: Extracting keywords using LLM...\n",
    "print_header(\"Step 1: Extracting keywords using LLM...\")\n",
    "keywords = llama_keyword_extraction(question)\n",
    "print_keywords(keywords)\n",
    "keyword_string = \" \".join(keywords)"
   ]
  },
  {
   "cell_type": "code",
   "execution_count": 6,
   "id": "332b1f94",
   "metadata": {},
   "outputs": [
    {
     "name": "stdout",
     "output_type": "stream",
     "text": [
      "\n",
      "============================================================\n",
      "Step 2: Loading schema...\n",
      "============================================================\n",
      "Loaded 47388 columns\n"
     ]
    }
   ],
   "source": [
    "# 🧱 Step 2: Schema extraction\n",
    "print_header(\"Step 2: Loading schema...\")\n",
    "column_texts = extract_column_texts()\n",
    "print(f\"Loaded {len(column_texts)} columns\")"
   ]
  },
  {
   "cell_type": "code",
   "execution_count": 7,
   "id": "025458fd",
   "metadata": {},
   "outputs": [
    {
     "name": "stdout",
     "output_type": "stream",
     "text": [
      "\n",
      "============================================================\n",
      "Step 3: FAISS column pruning (top 50) using keywords...\n",
      "============================================================\n",
      "Loading FAISS index from disk → c:\\Workspace\\NL2SQL\\data\\faiss_columns.bin\n",
      "\n",
      "Pruned Columns (FAISS):\n",
      "1. ba_rifatt.RACODIVI: Riferimento attivit� IVA ISTAT\n",
      "2. ba_tmpregiva.SRTOTIND: Totale IVA indetraibile\n",
      "3. ba_tmpregiva.SRPROIND: Progressivo IVA indetraibile\n",
      "4. ba_diceme_2020_m.DECOMPLA: Plafond - Dichiarazione annuale IVA presentata\n",
      "5. ba_rifatt.RACODIVA: Codice attivit� IVA azienda\n",
      "6. ba_tmpliqiva2.LIIVAIVA: Credito IVA su IVA\n",
      "7. ei_tmpcastiva.CIIMPON2: Imponibile IVA in valuta di conto\n",
      "8. ba_tmpcastiva.CIIMPON2: Imponibile IVA in valuta di conto\n",
      "9. ba_mycomp2.SCCONGRM: Conto IVA vendite per giroconto regime del margine\n",
      "10. ba_diceme_m.DECOMPLA: Plafond - Dichiarazione annuale IVA presentata\n",
      "11. ba_tmpregiva.SRATTIVA: Codice attivit� IVA\n",
      "12. ba_diceme_2017_m.DECOMPLA: Plafond - Dichiarazione annuale IVA presentata\n",
      "13. PNTIVA.AICODTAP: Codice trascodifica IVA\n",
      "14. ba_annint.CICODIVA: Codice IVA intestatario\n",
      "15. ba_regiva.RICODATT: Codice attivit� IVA\n",
      "16. ba_regmar.RMIVADOV: IVA dovuta\n",
      "17. ba_tmpregiva.SRIVAIND: IVA indetraibile\n",
      "18. ba_ivareg.RICODIVA: Codice IVA\n",
      "19. ba_ivaann.IASTOPER: Percentuale per il calcolo dell'anticipo IVA con il metodo storico\n",
      "20. ba_ivareg.RICODATT: Codice attivit� IVA\n",
      "21. ba_tmpliqiva.LITOTIND: Totale IVA indetraibile\n",
      "22. ei_reportvat.VPIDEB12: IVA dovuta\n",
      "23. ba_dicint.DITIPLET: Tipo lettera (Esclusione IVA / IVA Agevolata)\n",
      "24. ei_caspre.CPALIIVA: Aliquota IVA\n",
      "25. ba_tmpesidif.PTTOTIND: Totale IVA indetraibile\n",
      "26. ei_prinot_m.EINAZFIS: Codice nazione per  identificazione fiscale ai fini IVA (cliente/fornitore)\n",
      "27. PNTIVA.CCESIDIF: Gestione IVA ad esigibilit� differita\n",
      "28. PNTIVA.TIPIVAESIG: Valori IVA\n",
      "29. ei_tmpcastiva.CIIVAIN2: IVA indetraibile in valuta di conto\n",
      "30. ba_tmpnoseqiva.SQTOTIVA: Totale IVA\n",
      "31. ei_rifnoriva.RNNORIVA: Norma IVA da utilizzare\n",
      "32. ba_tmpregiva.SRPRODET: Progressivo IVA detraibile\n",
      "33. ei_reportvat.VPIDEB12_C: IVA dovuta\n",
      "34. ei_tmpcastiva.CIIMPONI: Imponibile IVA\n",
      "35. ba_tmpcastiva.CIIVAIN2: IVA indetraibile in valuta di conto\n",
      "36. ba_tmpregiva.SRCODREM: Codice Regime IVA\n",
      "37. ei_tmpcastiva.CIIVAIND: IVA indetraibile\n",
      "38. ba_tmpliqiva2.LICVPCPP: Credito IVA periodo precedente\n",
      "39. ei_datrie.IDNORIVA: Norma IVA da utilizzare\n",
      "40. ba_tmpregiva.SRCODIVA: Codice IVA\n",
      "41. ba_liqiva.LIACCIVA: Acconto IVA\n",
      "42. ba_tmpcastiva.CIIMPONI: Imponibile IVA\n",
      "43. ba_attivaann.IATRIACC: Codice tributo di versamento acconto Iva\n",
      "44. ba_tmpcastiva.CIIVAIND: IVA indetraibile\n",
      "45. ba_tmpesidif.PTTOTDET: Totale IVA detraibile\n",
      "46. ba_tmpliqiva.LITOTIVA2: Totale IVA acquisti\n",
      "47. ba_regiva.RIFLRIFDOC: Stampa riferimenti esterni del documento su registro IVA(acquisti e vendite)\n",
      "48. ei_fattele.DRALIIVA: Riga fattura - Aliquota IVA\n",
      "49. ei_reportvat_m.VPPARIVA: Partita IVA del contribuente\n",
      "50. ba_mycomp2.SCTIPREG: Tipo registro IVA per numerazione\n"
     ]
    }
   ],
   "source": [
    "# 🧠 Step 3: FAISS Pruning\n",
    "print_header(f\"Step 3: FAISS column pruning (top {TOP_K_COLUMNS}) using keywords...\")\n",
    "column_index, column_map = build_or_load_index(column_texts)\n",
    "pruned_columns = retrieve_top_k(column_index, column_map, keyword_string, TOP_K_COLUMNS)\n",
    "\n",
    "if pruned_columns:\n",
    "    pretty_print_list(\"Pruned Columns (FAISS)\", pruned_columns)\n",
    "else:\n",
    "    print(\"No columns found\")"
   ]
  },
  {
   "cell_type": "code",
   "execution_count": 8,
   "id": "2c5c5394",
   "metadata": {},
   "outputs": [
    {
     "name": "stdout",
     "output_type": "stream",
     "text": [
      "\n",
      "============================================================\n",
      "Step 4: LLM filtering on pruned columns...\n",
      "============================================================\n"
     ]
    },
    {
     "name": "stderr",
     "output_type": "stream",
     "text": [
      "c:\\Workspace\\NL2SQL\\venv\\lib\\site-packages\\urllib3\\connectionpool.py:1097: InsecureRequestWarning: Unverified HTTPS request is being made to host '192.168.102.17'. Adding certificate verification is strongly advised. See: https://urllib3.readthedocs.io/en/latest/advanced-usage.html#tls-warnings\n",
      "  warnings.warn(\n"
     ]
    },
    {
     "name": "stdout",
     "output_type": "stream",
     "text": [
      "\n",
      "Filtered Columns (LLM):\n",
      "1. - ba_tmpregiva.SRPROIND: Progressivo IVA indetraibile\n",
      "2. - ba_tmpregiva.SRATTIVA: Codice attività IVA\n",
      "3. - ba_tmpregiva.SRCODREM: Codice Regime IVA\n",
      "4. - PNTIVA.CCESIDIF: Gestione IVA ad esigibilità differita\n",
      "5. - PNTIVA.TIPIVAESIG: Valori IVA\n",
      "6. - ba_diceme_2020_m.DECOMPLA: Plafond - Dichiarazione annuale IVA presentata\n",
      "7. - ba_tmpregiva.SRIVAIND: IVA indetraibile\n",
      "8. - ei_reportvat.VPIDEB12: IVA dovuta\n",
      "9. - ei_reportvat.VPIDEB12_C: IVA dovuta\n",
      "10. - ba_ivareg.RICODIVA: Codice IVA\n",
      "11. - ba_ivareg.RICODATT: Codice attività IVA\n",
      "12. - ei_prinot_m.EINAZFIS: Codice nazione per identificazione fiscale ai fini IVA (cliente/fornitore)\n"
     ]
    }
   ],
   "source": [
    "# 🧠 Step 4: LLM filtering on pruned columns\n",
    "print_header(\"Step 4: LLM filtering on pruned columns...\")\n",
    "llm_filtered_columns = llama_filter_columns_by_keywords(keyword_string, pruned_columns, keywords)\n",
    "\n",
    "if llm_filtered_columns:\n",
    "    pretty_print_list(\"Filtered Columns (LLM)\", llm_filtered_columns)\n",
    "else:\n",
    "    print(\"No columns passed the LLM filtering step\")"
   ]
  },
  {
   "cell_type": "code",
   "execution_count": 9,
   "id": "a543308e",
   "metadata": {},
   "outputs": [
    {
     "name": "stdout",
     "output_type": "stream",
     "text": [
      "\n",
      "============================================================\n",
      "Step 5: LLM-based table linking (using filtered columns)...\n",
      "============================================================\n"
     ]
    },
    {
     "name": "stderr",
     "output_type": "stream",
     "text": [
      "c:\\Workspace\\NL2SQL\\venv\\lib\\site-packages\\urllib3\\connectionpool.py:1097: InsecureRequestWarning: Unverified HTTPS request is being made to host '192.168.102.17'. Adding certificate verification is strongly advised. See: https://urllib3.readthedocs.io/en/latest/advanced-usage.html#tls-warnings\n",
      "  warnings.warn(\n"
     ]
    },
    {
     "name": "stdout",
     "output_type": "stream",
     "text": [
      "\n",
      "Linked Tables (LLM):\n",
      "1. ba_diceme_2020_m\n",
      "2. ba_ivareg\n",
      "3. ba_tmpregiva\n"
     ]
    }
   ],
   "source": [
    "# 🧮 Step 5: Table Linking via LLM\n",
    "print_header(\"Step 5: LLM-based table linking (using filtered columns)...\")\n",
    "candidate_tables = list(set([col.split('.')[0] for col in llm_filtered_columns]))\n",
    "\n",
    "linked_tables = llama_table_linking(question, candidate_tables)\n",
    "\n",
    "if linked_tables:\n",
    "    pretty_print_list(\"Linked Tables (LLM)\", linked_tables)\n",
    "else:\n",
    "    print(\"No tables linked by LLM\")"
   ]
  },
  {
   "cell_type": "code",
   "execution_count": 10,
   "id": "c3598265",
   "metadata": {},
   "outputs": [
    {
     "name": "stdout",
     "output_type": "stream",
     "text": [
      "\n",
      "============================================================\n",
      "Step 6: LLM-based final column linking...\n",
      "============================================================\n"
     ]
    },
    {
     "name": "stderr",
     "output_type": "stream",
     "text": [
      "c:\\Workspace\\NL2SQL\\venv\\lib\\site-packages\\urllib3\\connectionpool.py:1097: InsecureRequestWarning: Unverified HTTPS request is being made to host '192.168.102.17'. Adding certificate verification is strongly advised. See: https://urllib3.readthedocs.io/en/latest/advanced-usage.html#tls-warnings\n",
      "  warnings.warn(\n"
     ]
    },
    {
     "name": "stdout",
     "output_type": "stream",
     "text": [
      "\n",
      "============================================================\n",
      "Final Result\n",
      "============================================================\n",
      "Question: Quali attività IVA risultano ancora valide nel 2024?\n",
      "\n",
      "Keywords:\n",
      "1. IVA\n",
      "2. attività\n",
      "3. 2024\n",
      "4. validità\n",
      "\n",
      "Linked Tables (LLM):\n",
      "1. ba_diceme_2020_m\n",
      "2. ba_ivareg\n",
      "3. ba_tmpregiva\n",
      "\n",
      "Linked Columns (LLM):\n",
      "1. - iva_attivita_2024\n",
      "2. - validita\n"
     ]
    }
   ],
   "source": [
    "# 🔗 Step 6: Final Column Linking\n",
    "print_header(\"Step 6: LLM-based final column linking...\")\n",
    "final_columns = [col for col in llm_filtered_columns if col.split('.')[0] in linked_tables]\n",
    "linked_columns = llama_column_linking(keyword_string, final_columns)\n",
    "\n",
    "if linked_columns:\n",
    "    print_summary(question, keywords, linked_tables, linked_columns)\n",
    "else:\n",
    "    print(\"No columns linked by LLM\")"
   ]
  }
 ],
 "metadata": {
  "kernelspec": {
   "display_name": "venv",
   "language": "python",
   "name": "python3"
  },
  "language_info": {
   "codemirror_mode": {
    "name": "ipython",
    "version": 3
   },
   "file_extension": ".py",
   "mimetype": "text/x-python",
   "name": "python",
   "nbconvert_exporter": "python",
   "pygments_lexer": "ipython3",
   "version": "3.10.11"
  }
 },
 "nbformat": 4,
 "nbformat_minor": 5
}
