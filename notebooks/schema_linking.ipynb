{
 "cells": [
  {
   "cell_type": "code",
   "execution_count": 1,
   "id": "d477aa50",
   "metadata": {},
   "outputs": [],
   "source": [
    "# 🔧 Setup & Import\n",
    "import sys\n",
    "import os\n",
    "\n",
    "sys.path.append(\n",
    "    os.path.join(\n",
    "        os.path.abspath(os.path.join(os.getcwd(), \"..\")) , \"src\"\n",
    "    )\n",
    ")\n",
    "\n",
    "from schema_linking.schema.extract_schema import extract_column_texts\n",
    "from schema_linking.keywords.keyword_extractor import llama_keyword_extraction\n",
    "from schema_linking.retrieval.retriever import build_or_load_index, retrieve_top_k\n",
    "from schema_linking.llm.llama_linker import llama_table_linking, llama_column_linking, llama_filter_columns_by_keywords\n",
    "from schema_linking.utils.printer import (\n",
    "    print_header,\n",
    "    print_keywords,\n",
    "    pretty_print_list,\n",
    "    print_summary\n",
    ")\n",
    "from schema_linking.config.config import TOP_K_COLUMNS"
   ]
  },
  {
   "cell_type": "code",
   "execution_count": 2,
   "id": "d3f7f173",
   "metadata": {},
   "outputs": [
    {
     "name": "stdout",
     "output_type": "stream",
     "text": [
      "\n",
      "============================================================\n",
      "Input\n",
      "============================================================\n",
      "Question: Quali sono le descrizioni di rigo delle voci contabili del 2011?\n"
     ]
    }
   ],
   "source": [
    "# ✍️ Input della Query\n",
    "print_header(\"Input\")\n",
    "question = \"Question: Quali sono le descrizioni di rigo delle voci contabili del 2011?\"\n",
    "print(question)"
   ]
  },
  {
   "cell_type": "code",
   "execution_count": 6,
   "id": "36506563",
   "metadata": {},
   "outputs": [
    {
     "name": "stdout",
     "output_type": "stream",
     "text": [
      "\n",
      "============================================================\n",
      "Step 1: Extracting keywords using LLM...\n",
      "============================================================\n"
     ]
    },
    {
     "name": "stderr",
     "output_type": "stream",
     "text": [
      "c:\\Workspace\\NL2SQL\\venv\\lib\\site-packages\\urllib3\\connectionpool.py:1097: InsecureRequestWarning: Unverified HTTPS request is being made to host '192.168.102.17'. Adding certificate verification is strongly advised. See: https://urllib3.readthedocs.io/en/latest/advanced-usage.html#tls-warnings\n",
      "  warnings.warn(\n"
     ]
    },
    {
     "name": "stdout",
     "output_type": "stream",
     "text": [
      "\n",
      "Keywords:\n",
      "1. voci\n",
      "2. contabili\n",
      "3. 2011\n",
      "4. descrizioni\n",
      "5. di\n",
      "6. rigo\n"
     ]
    }
   ],
   "source": [
    "# 🔍 Step 1: Extracting keywords using LLM...\n",
    "print_header(\"Step 1: Extracting keywords using LLM...\")\n",
    "keywords = llama_keyword_extraction(question)\n",
    "print_keywords(keywords)\n",
    "keyword_string = \" \".join(keywords)"
   ]
  },
  {
   "cell_type": "code",
   "execution_count": 8,
   "id": "332b1f94",
   "metadata": {},
   "outputs": [
    {
     "name": "stdout",
     "output_type": "stream",
     "text": [
      "\n",
      "============================================================\n",
      "Step 2: Loading schema...\n",
      "============================================================\n",
      "Loaded 47388 columns\n"
     ]
    }
   ],
   "source": [
    "# 🧱 Step 2: Schema extraction\n",
    "print_header(\"Step 2: Loading schema...\")\n",
    "column_texts = extract_column_texts()\n",
    "print(f\"Loaded {len(column_texts)} columns\")"
   ]
  },
  {
   "cell_type": "code",
   "execution_count": 10,
   "id": "025458fd",
   "metadata": {},
   "outputs": [
    {
     "name": "stdout",
     "output_type": "stream",
     "text": [
      "\n",
      "============================================================\n",
      "Step 3: FAISS column pruning (top 50) using keywords...\n",
      "============================================================\n",
      "Loading FAISS index from disk → c:\\Workspace\\NL2SQL\\data\\faiss_columns.bin\n",
      "\n",
      "Pruned Columns (FAISS):\n",
      "1. ri_versena.DERIFCON: Riferimento a scrittura contabile\n",
      "2. ri_dettsy_2021.CHSOMERE: Somme erogate(riservata al soggetto erogatore delle somme)\n",
      "3. ri_dettsy_2019.CHSOMERE: Somme erogate(riservata al soggetto erogatore delle somme)\n",
      "4. acbil_mrett_m.RECSEZNCONT: Sezionale contabile\n",
      "5. ri_dettsy_2016.CHSOMERE: Somme erogate(riservata al soggetto erogatore delle somme)\n",
      "6. ri_dettsy_2017.CHSOMERE: Somme erogate(riservata al soggetto erogatore delle somme)\n",
      "7. ri_dettsy_2022.CHSOMERE: Somme erogate(riservata al soggetto erogatore delle somme)\n",
      "8. fi_agoregass.RECPIACONRIGA: Codice piano dei conti di riga\n",
      "9. acbil_mrett_m.RENPROGVSCH: Progressivo scheda contabile\n",
      "10. ri_dettsy_2018.CHSOMERE: Somme erogate(riservata al soggetto erogatore delle somme)\n",
      "11. acbil_mrett.RECPIACONRIGA: Codice piano dei conti (di riga)\n",
      "12. ri_dettsy_2016.CHRITOPE: Ritenute operate(riservata al soggetto erogatore delle somme)\n",
      "13. ri_dettsy_2020.CHSOMERE: Somme erogate(riservata al soggetto erogatore delle somme)\n",
      "14. ri_dettcu_h1_2019.CHSOMERE: Somme erogate(riservata al soggetto erogatore delle somme)\n",
      "15. ri_dettsy_2021.CHRITOPE: Ritenute operate(riservata al soggetto erogatore delle somme)\n",
      "16. ri_dettsy_2017.CHRITOPE: Ritenute operate(riservata al soggetto erogatore delle somme)\n",
      "17. ri_dettsy_2019.CHRITOPE: Ritenute operate(riservata al soggetto erogatore delle somme)\n",
      "18. ri_dettsy_2022.CHRITOPE: Ritenute operate(riservata al soggetto erogatore delle somme)\n",
      "19. ri_dettcu_h1_2017.CHSOMERE: Somme erogate(riservata al soggetto erogatore delle somme)\n",
      "20. acbil_mrett_m.RECPIACON: Codice piano dei conti\n",
      "21. ri_dettcu_h1_2021.CHSOMERE: Somme erogate(riservata al soggetto erogatore delle somme)\n",
      "22. ri_dettcu_h1_2016.CHSOMERE: Somme erogate(riservata al soggetto erogatore delle somme)\n",
      "23. ri_dettsy_2018.CHRITOPE: Ritenute operate(riservata al soggetto erogatore delle somme)\n",
      "24. ri_tmpgensto.RICONERA: Conto contabile Erario\n",
      "25. ba_mycompany.SARICANA: Default - Riclassificazione di bilancio di contabilit� analitica\n",
      "26. ba_ribana.RIVOCSTO: Voce di storno del saldo (per trasferimenti)\n",
      "27. ri_dettcu_h1_2018.CHSOMERE: Somme erogate(riservata al soggetto erogatore delle somme)\n",
      "28. ri_dettsy_2020.CHRITOPE: Ritenute operate(riservata al soggetto erogatore delle somme)\n",
      "29. ri_detver_2019.VCCRESCO: Crediti d'imposta utilizzati a scomputo\n",
      "30. ba_regass.RACODBIL: Codice bilancio\n",
      "31. ri_detver_2021.VCCRESCO: Crediti d'imposta utilizzati a scomputo\n",
      "32. ri_detver_2022.VCCRESCO: Crediti d'imposta utilizzati a scomputo\n",
      "33. ri_dettcu_h1_2020.CHSOMERE: Somme erogate(riservata al soggetto erogatore delle somme)\n",
      "34. ri_dettcu_h1_2022.CHSOMERE: Somme erogate(riservata al soggetto erogatore delle somme)\n",
      "35. ri_dettsy_2019.CHCODFI2: Codice fiscale(sezione pignoramento presso terzi)\n",
      "36. acbil_mrett_m.RENNUMRIGAFATT: Numero riga fattura che genera la scrittura di competenza\n",
      "37. ba_provvianarif.PLRIGCON: Riferimento riga dati contabili\n",
      "38. ba_accont_m.ACCONSPE: Conto contabile spesa\n",
      "39. ba_tmpparrip.RIVOCSTO: Voce di storno del saldo (per trasferimenti)\n",
      "40. ri_detver_2016.VCCRESCO: Crediti d'imposta utilizzati a scomputo\n",
      "41. ri_tmpgensto.RINUMROW: Numero riga scrittura contabile\n",
      "42. ri_detver_2020.VCCRESCO: Crediti d'imposta utilizzati a scomputo\n",
      "43. ri_dettcu_h1_2019.CHRITOPE: Ritenute operate(riservata al soggetto erogatore delle somme)\n",
      "44. ri_dettsy_2021.CHCODFI2: Codice fiscale(sezione pignoramento presso terzi)\n",
      "45. ri_detver_2017.VCCRESCO: Crediti d'imposta utilizzati a scomputo\n",
      "46. ri_parrit.PRCOPAFI: Conto patrimoniale per assestamento Firr\n",
      "47. ri_dettsy_2016.CHCODFI2: Codice fiscale(sezione pignoramento presso terzi)\n",
      "48. ri_mod770_2021.MDCFIREV4: Codice fiscale dell'incaricato della relazione di revisione\n",
      "49. ri_detver_2018.VCCRESCO: Crediti d'imposta utilizzati a scomputo\n",
      "50. acbil_mrett_m.REFCONTZESERPREC: Contabilizza esercizio precedente\n"
     ]
    }
   ],
   "source": [
    "# 🧠 Step 3: FAISS Pruning\n",
    "print_header(f\"Step 3: FAISS column pruning (top {TOP_K_COLUMNS}) using keywords...\")\n",
    "column_index, column_map = build_or_load_index(column_texts)\n",
    "pruned_columns = retrieve_top_k(column_index, column_map, keyword_string, TOP_K_COLUMNS)\n",
    "\n",
    "if pruned_columns:\n",
    "    pretty_print_list(\"Pruned Columns (FAISS)\", pruned_columns)\n",
    "else:\n",
    "    print(\"No columns found\")"
   ]
  },
  {
   "cell_type": "code",
   "execution_count": 11,
   "id": "2c5c5394",
   "metadata": {},
   "outputs": [
    {
     "name": "stdout",
     "output_type": "stream",
     "text": [
      "\n",
      "============================================================\n",
      "Step 4: LLM filtering on pruned columns...\n",
      "============================================================\n"
     ]
    },
    {
     "name": "stderr",
     "output_type": "stream",
     "text": [
      "c:\\Workspace\\NL2SQL\\venv\\lib\\site-packages\\urllib3\\connectionpool.py:1097: InsecureRequestWarning: Unverified HTTPS request is being made to host '192.168.102.17'. Adding certificate verification is strongly advised. See: https://urllib3.readthedocs.io/en/latest/advanced-usage.html#tls-warnings\n",
      "  warnings.warn(\n"
     ]
    },
    {
     "name": "stdout",
     "output_type": "stream",
     "text": [
      "\n",
      "Filtered Columns (LLM):\n",
      "1. - ri_dettsy_2011.CHSOMERE\n",
      "2. - fi_agoregass.RECPIACONRIGA\n",
      "3. - ri_dettcu_h1_2011.CHSOMERE\n",
      "4. - ri_dettsy_2011.CHRITOPE\n",
      "5. - ri_tmpgensto.RINUMROW\n",
      "6. - ri_tmpgensto.RICONERA\n",
      "7. - ba_mycompany.SARICANA\n",
      "8. - ri_dettsy_2011.CHCODFI2\n",
      "9. - ri_dettsy_2011.RENPROGVSCH\n"
     ]
    }
   ],
   "source": [
    "# 🧠 Step 4: LLM filtering on pruned columns\n",
    "print_header(\"Step 4: LLM filtering on pruned columns...\")\n",
    "llm_filtered_columns = llama_filter_columns_by_keywords(keyword_string, pruned_columns, keywords)\n",
    "\n",
    "if llm_filtered_columns:\n",
    "    pretty_print_list(\"Filtered Columns (LLM)\", llm_filtered_columns)\n",
    "else:\n",
    "    print(\"No columns passed the LLM filtering step\")"
   ]
  },
  {
   "cell_type": "code",
   "execution_count": 12,
   "id": "a543308e",
   "metadata": {},
   "outputs": [
    {
     "name": "stdout",
     "output_type": "stream",
     "text": [
      "\n",
      "============================================================\n",
      "Step 5: LLM-based table linking (using filtered columns)...\n",
      "============================================================\n"
     ]
    },
    {
     "name": "stderr",
     "output_type": "stream",
     "text": [
      "c:\\Workspace\\NL2SQL\\venv\\lib\\site-packages\\urllib3\\connectionpool.py:1097: InsecureRequestWarning: Unverified HTTPS request is being made to host '192.168.102.17'. Adding certificate verification is strongly advised. See: https://urllib3.readthedocs.io/en/latest/advanced-usage.html#tls-warnings\n",
      "  warnings.warn(\n"
     ]
    },
    {
     "name": "stdout",
     "output_type": "stream",
     "text": [
      "\n",
      "Linked Tables (LLM):\n",
      "1. - ri_dettsy_2011\n",
      "2. - ri_dettcu_h1_2011\n"
     ]
    }
   ],
   "source": [
    "# 🧮 Step 5: Table Linking via LLM\n",
    "print_header(\"Step 5: LLM-based table linking (using filtered columns)...\")\n",
    "candidate_tables = list(set([col.split('.')[0] for col in llm_filtered_columns]))\n",
    "\n",
    "linked_tables = llama_table_linking(question, candidate_tables)\n",
    "\n",
    "if linked_tables:\n",
    "    pretty_print_list(\"Linked Tables (LLM)\", linked_tables)\n",
    "else:\n",
    "    print(\"No tables linked by LLM\")"
   ]
  },
  {
   "cell_type": "code",
   "execution_count": null,
   "id": "c3598265",
   "metadata": {},
   "outputs": [
    {
     "name": "stdout",
     "output_type": "stream",
     "text": [
      "\n",
      "============================================================\n",
      "Step 6: LLM-based final column linking...\n",
      "============================================================\n"
     ]
    },
    {
     "name": "stderr",
     "output_type": "stream",
     "text": [
      "c:\\Workspace\\NL2SQL\\venv\\lib\\site-packages\\urllib3\\connectionpool.py:1097: InsecureRequestWarning: Unverified HTTPS request is being made to host '192.168.102.17'. Adding certificate verification is strongly advised. See: https://urllib3.readthedocs.io/en/latest/advanced-usage.html#tls-warnings\n",
      "  warnings.warn(\n"
     ]
    }
   ],
   "source": [
    "# 🔗 Step 6: Final Column Linking\n",
    "print_header(\"Step 6: LLM-based final column linking...\")\n",
    "final_columns = [col for col in llm_filtered_columns if col.split('.')[0] in linked_tables]\n",
    "linked_columns = llama_column_linking(keyword_string, final_columns)\n",
    "\n",
    "if linked_columns:\n",
    "    print_summary(question, keywords, linked_tables, linked_columns)\n",
    "else:\n",
    "    print(\"No columns linked by LLM\")"
   ]
  }
 ],
 "metadata": {
  "kernelspec": {
   "display_name": "venv",
   "language": "python",
   "name": "python3"
  },
  "language_info": {
   "codemirror_mode": {
    "name": "ipython",
    "version": 3
   },
   "file_extension": ".py",
   "mimetype": "text/x-python",
   "name": "python",
   "nbconvert_exporter": "python",
   "pygments_lexer": "ipython3",
   "version": "3.10.11"
  }
 },
 "nbformat": 4,
 "nbformat_minor": 5
}
