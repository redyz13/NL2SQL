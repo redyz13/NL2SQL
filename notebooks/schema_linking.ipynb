{
 "cells": [
  {
   "cell_type": "code",
   "execution_count": 1,
   "id": "d477aa50",
   "metadata": {},
   "outputs": [],
   "source": [
    "# 🔧 Setup & Import\n",
    "import sys\n",
    "import os\n",
    "\n",
    "sys.path.append(\n",
    "    os.path.join(\n",
    "        os.path.abspath(os.path.join(os.getcwd(), \"..\")) , \"src\"\n",
    "    )\n",
    ")\n",
    "\n",
    "from schema_linking.schema.extract_schema import extract_active_column_texts\n",
    "from schema_linking.keywords.keyword_extractor import llama_keyword_extraction\n",
    "from schema_linking.retrieval.retriever import build_or_load_index, retrieve_top_k\n",
    "from schema_linking.llm.llama_linker import llama_table_linking, llama_column_linking, llama_filter_columns_by_keywords\n",
    "from schema_linking.utils.printer import (\n",
    "    print_header,\n",
    "    print_keywords,\n",
    "    pretty_print_list,\n",
    "    print_summary\n",
    ")\n",
    "from schema_linking.config.config import TOP_K_COLUMNS"
   ]
  },
  {
   "cell_type": "code",
   "execution_count": 2,
   "id": "d3f7f173",
   "metadata": {},
   "outputs": [
    {
     "name": "stdout",
     "output_type": "stream",
     "text": [
      "\n",
      "============================================================\n",
      "Input\n",
      "============================================================\n",
      "Question: Quali attività IVA hanno ancora validità nel 2024?\n"
     ]
    }
   ],
   "source": [
    "# ✍️ Input della Query\n",
    "print_header(\"Input\")\n",
    "question = \"Quali attività IVA hanno ancora validità nel 2024?\"\n",
    "print(f\"Question: {question}\")"
   ]
  },
  {
   "cell_type": "code",
   "execution_count": 6,
   "id": "36506563",
   "metadata": {},
   "outputs": [
    {
     "name": "stdout",
     "output_type": "stream",
     "text": [
      "\n",
      "============================================================\n",
      "Step 1: Extracting keywords using LLM...\n",
      "============================================================\n"
     ]
    },
    {
     "name": "stderr",
     "output_type": "stream",
     "text": [
      "c:\\Workspace\\NL2SQL\\venv\\lib\\site-packages\\urllib3\\connectionpool.py:1097: InsecureRequestWarning: Unverified HTTPS request is being made to host '192.168.102.17'. Adding certificate verification is strongly advised. See: https://urllib3.readthedocs.io/en/latest/advanced-usage.html#tls-warnings\n",
      "  warnings.warn(\n"
     ]
    },
    {
     "name": "stdout",
     "output_type": "stream",
     "text": [
      "\n",
      "Keywords:\n",
      "1. attività\n",
      "2. IVA\n",
      "3. validità\n",
      "4. 2024\n"
     ]
    }
   ],
   "source": [
    "# 🔍 Step 1: Extracting keywords using LLM...\n",
    "print_header(\"Step 1: Extracting keywords using LLM...\")\n",
    "keywords = llama_keyword_extraction(question)\n",
    "print_keywords(keywords)\n",
    "keyword_string = \" \".join(keywords)"
   ]
  },
  {
   "cell_type": "code",
   "execution_count": 3,
   "id": "332b1f94",
   "metadata": {},
   "outputs": [
    {
     "name": "stdout",
     "output_type": "stream",
     "text": [
      "\n",
      "============================================================\n",
      "Step 2: Loading schema...\n",
      "============================================================\n",
      "Filtered ba_table_fields from 47388 to 3908 fields (matching active tables).\n",
      "Loaded 3908 columns\n"
     ]
    }
   ],
   "source": [
    "# 🧱 Step 2: Schema extraction\n",
    "print_header(\"Step 2: Loading schema...\")\n",
    "column_texts = extract_active_column_texts()\n",
    "print(f\"Loaded {len(column_texts)} columns\")"
   ]
  },
  {
   "cell_type": "code",
   "execution_count": 4,
   "id": "025458fd",
   "metadata": {},
   "outputs": [
    {
     "name": "stdout",
     "output_type": "stream",
     "text": [
      "\n",
      "============================================================\n",
      "Step 3: FAISS column pruning (top 50) using keywords...\n",
      "============================================================\n",
      "Loading FAISS index from disk → c:\\Workspace\\NL2SQL\\data\\faiss_columns.bin\n",
      "\n",
      "Pruned Columns (FAISS):\n",
      "1. ei_reportvat_par.VPPARIVA: Partita IVA del contribuente (tabella: EI - Parametri per Liquidazioni)\n",
      "2. ei_reportvat_par.VPPARCON: Partita IVA controllante (tabella: EI - Parametri per Liquidazioni)\n",
      "3. ei_docstati.DSFLGLI: [OBSOLETO] - Indica che lo stato � attivo per la liquidazione IVA (tabella: FATEL - Stati documento)\n",
      "4. ba_uffiva.UIDESCRI: Descrizione Ufficio IVA (tabella: CG - Ufficio Iva)\n",
      "5. ba_codiva.CIPERIVA: % Aliquota (tabella: CG - Codici IVA)\n",
      "6. ba_pagdett.PDFL_IVA: Parametro IVA (tabella: BA - Pagamenti Dettagli)\n",
      "7. ei_reportvat_par.VPCODFSC: Codice fiscale della societ� (tabella: EI - Parametri per Liquidazioni)\n",
      "8. ba_contact.COTIPSOG: Tipo soggetto IVA (tabella: CO - Contatto)\n",
      "9. ba_codiva.CICODCOL: Codice IVA collegato (tabella: CG - Codici IVA)\n",
      "10. ei_reportvat_par.VPCODFIN: Codice fiscale dell'incaricato (tabella: EI - Parametri per Liquidazioni)\n",
      "11. ei_reportvat_par.VPCODFCO: Codice fiscale del contribuente cui si riferisce la comunicazione (tabella: EI - Parametri per Liquidazioni)\n",
      "12. ei_parfatel.PFDMSFOLLI: Cartella DMS per liquidazione IVA (tabella: FATEL - Parametri modulo)\n",
      "13. ba_caudoc.CDFLGSTMP: Flag Stampa Codice Fiscale/Partita IVA (tabella: DO - Causali documento)\n",
      "14. ba_codiva.CIGRACOM: Regime agricolo - % compensazione (tabella: CG - Codici IVA)\n",
      "15. ei_parfatel.PFGRPNOTLI: Gruppo Default per invio notifiche per liquidazioni IVA (tabella: FATEL - Parametri modulo)\n",
      "16. ba_codiva.CINDCINV: Considera Iva indetraibile nel calcolo dei costi (tabella: CG - Codici IVA)\n",
      "17. ba_values.VAGLOBALDEC: Numero Decimali per Importi Globali (tabella: BA - Valute)\n",
      "18. ba_codiva.CIGRACES: Regime agricolo - Cessioni (tabella: CG - Codici IVA)\n",
      "19. ba_codiva.CICODICE: codice IVA (tabella: CG - Codici IVA)\n",
      "20. ei_reportvat_par.VPCODFRE: Codice fiscale del soggetto responsabile della trasmissione telematica (tabella: EI - Parametri per Liquidazioni)\n",
      "21. ei_as_tratfis.TFDESCRI: Descrizione trattamento fiscale AssoSoftware (tabella: FATEL -  Trattamento fiscale AssoSoftware)\n",
      "22. ba_values.VAARRIVA: Tipo di arrotondamento Importi Iva (tabella: BA - Valute)\n",
      "23. ri_natgiu.NGANNVAL: Anno di inserimento (tabella: 770 - Natura giuridica)\n",
      "24. ei_reportvat_par.VPULMESE: Ultimo mese (tabella: EI - Parametri per Liquidazioni)\n",
      "25. ei_as_tratfis.TFCODICE: Codice (tabella: FATEL -  Trattamento fiscale AssoSoftware)\n",
      "26. ba_values.VADATEUR: Data inizio Triangolazione (tabella: BA - Valute)\n",
      "27. ei_parfatel.PFCODFISDICCR: Codice fiscale dichiarante per comunicazione corrispettivi (tabella: FATEL - Parametri modulo)\n",
      "28. ri_eveecc.EEANNVAL: Anno di validit� (tabella: 770 - Eventi eccezionali)\n",
      "29. ba_values.VACATALOG: Valuta disponibile per catalogo prodotti (tabella: BA - Valute)\n",
      "30. ei_reportvat_par.VPFIRSOC: Firma dichiarazione (tabella: EI - Parametri per Liquidazioni)\n",
      "31. ei_regfis.RFDESCRI: Descrizione (tabella: FATEL - Regime fiscale)\n",
      "32. ei_parfatel.PFCODFISDICDF: Codice fiscale dichiarante per comunicazione dati fatture (tabella: FATEL - Parametri modulo)\n",
      "33. ei_regfis.RFCODICE: Codice (tabella: FATEL - Regime fiscale)\n",
      "34. ba_mycompany.SAGIOMOR: Numero giorni per moratoria (tabella: CO - Specializzazioni Aziende)\n",
      "35. ba_values.VADTOBSO: Data fine Triangolazione (tabella: BA - Valute)\n",
      "36. ba_codiva.CIPERIND: % Indetraibile (tabella: CG - Codici IVA)\n",
      "37. ba_triiva.TINUMPER: Numero periodo (tabella: CG - Tributi Iva utilizzati)\n",
      "38. ba_mycompany.SAPAGMOR: Codice pagamento per moratoria (tabella: CO - Specializzazioni Aziende)\n",
      "39. ba_caupar.CCFLPARZ: Gestione importi parziali nel saldaconto (tabella: CG - Causali partite scadenze)\n",
      "40. ba_aspest.AECODICE: Codice aspetto (tabella: IS - Aspetto dei beni)\n",
      "41. ei_reportvat_par.VPCODICE: Codice univoco (tabella: EI - Parametri per Liquidazioni)\n",
      "42. ba_values.VADESCRI: Descrizione (tabella: BA - Valute)\n",
      "43. ei_dattra.DTIDEFIS: Codice identificativo fiscale (tabella: FATEL - Dati trasmissione)\n",
      "44. ba_codiva.CIGRAACQ: Regime agricolo - Acquisti (tabella: CG - Codici IVA)\n",
      "45. ei_codipa.PACODFIS: Codice Fiscale (tabella: FATEL - Codici Indice PA)\n",
      "46. ri_tribut.TRCODICE: Codice tributo (tabella: RI - Tributi)\n",
      "47. ba_codiva.CIIMPBOL: Flag codice soggetto ad imposta di bollo (tabella: CG - Codici IVA)\n",
      "48. ba_vocibila.VBCASHFL: Tipo voce cash flow (tabella: CG - Voci di bilancio)\n",
      "49. ba_caucon.CCFLGRIB: Ribaltamento con regole periodo precedente (tabella: CG - Causali contabili)\n",
      "50. ba_nation.NALUNPI2: Lunghezza partita iva per nazioni non UE (tabella: BA - Nazioni)\n"
     ]
    }
   ],
   "source": [
    "# 🧠 Step 3: FAISS Pruning\n",
    "print_header(f\"Step 3: FAISS column pruning (top {TOP_K_COLUMNS}) using keywords...\")\n",
    "column_index, column_map = build_or_load_index(column_texts)\n",
    "pruned_columns = retrieve_top_k(column_index, column_map, question, TOP_K_COLUMNS)\n",
    "\n",
    "if pruned_columns:\n",
    "    pretty_print_list(\"Pruned Columns (FAISS)\", pruned_columns)\n",
    "else:\n",
    "    print(\"No columns found\")"
   ]
  },
  {
   "cell_type": "code",
   "execution_count": 13,
   "id": "005ad507",
   "metadata": {},
   "outputs": [
    {
     "data": {
      "text/plain": [
       "[(113,\n",
       "  np.float32(0.35967377),\n",
       "  'ba_attivagen.AICODICE: Codice Attività Iva (tabella: CG - Tabella attività Iva)'),\n",
       " (133,\n",
       "  np.float32(0.35319874),\n",
       "  'ba_aspest.DTENDVAL: Data fine validit� (tabella: IS - Aspetto dei beni)'),\n",
       " (146,\n",
       "  np.float32(0.349522),\n",
       "  'ba_tippaga.DTENDVAL: Fine validita (tabella: BA - Tipi di Pagamento)')]"
      ]
     },
     "execution_count": 13,
     "metadata": {},
     "output_type": "execute_result"
    }
   ],
   "source": [
    "import numpy as np\n",
    "from sentence_transformers import SentenceTransformer\n",
    "from schema_linking.config.config import (\n",
    "    EMBEDDING_MODEL,\n",
    ")\n",
    "\n",
    "model = SentenceTransformer(EMBEDDING_MODEL)\n",
    "\n",
    "query_vec = model.encode([question], convert_to_numpy=True, normalize_embeddings=True)\n",
    "D, I = column_index.search(query_vec, len(column_map))\n",
    "[(i+1, D[0][i], column_map[I[0][i]]) for i in range(150) if \"DTENDVAL\" in column_map[I[0][i]] or \"attivagen\" in column_map[I[0][i]]]"
   ]
  },
  {
   "cell_type": "code",
   "execution_count": 7,
   "id": "2c5c5394",
   "metadata": {},
   "outputs": [
    {
     "name": "stdout",
     "output_type": "stream",
     "text": [
      "\n",
      "============================================================\n",
      "Step 4: LLM filtering on pruned columns...\n",
      "============================================================\n"
     ]
    },
    {
     "name": "stderr",
     "output_type": "stream",
     "text": [
      "c:\\Workspace\\NL2SQL\\venv\\lib\\site-packages\\urllib3\\connectionpool.py:1097: InsecureRequestWarning: Unverified HTTPS request is being made to host '192.168.102.17'. Adding certificate verification is strongly advised. See: https://urllib3.readthedocs.io/en/latest/advanced-usage.html#tls-warnings\n",
      "  warnings.warn(\n"
     ]
    },
    {
     "name": "stdout",
     "output_type": "stream",
     "text": [
      "\n",
      "Filtered Columns (LLM):\n",
      "1. ba_codiva.CICODCOL\n",
      "2. ba_codiva.CIGRACOM\n",
      "3. ba_codiva.CIGRACES\n",
      "4. ei_reportvat_par.VPCODFSC\n",
      "5. ei_reportvat_par.VPCODFCO\n",
      "6. ei_reportvat_par.VPULMESE\n",
      "7. ei_reportvat_par.VPPARIVA\n",
      "8. ei_reportvat_par.VPPARCON\n",
      "9. ei_regfis.RFCODICE\n",
      "10. ba_codiva.CINDCINV\n",
      "11. ba_codiva.CIPERIVA\n",
      "12. ei_reportvat_par.VPFIRSOC\n",
      "13. ei_dattra.DTIDEFIS\n",
      "14. ba_values.VAARRIVA\n",
      "15. ba_values.VADESCRI\n",
      "16. ei_reportvat_par.VPCODFRE\n",
      "17. ei_reportvat_par.VPCODICE\n",
      "18. ei_as_tratfis.TFCODICE\n"
     ]
    }
   ],
   "source": [
    "# 🧠 Step 4: LLM filtering on pruned columns\n",
    "print_header(\"Step 4: LLM filtering on pruned columns...\")\n",
    "llm_filtered_columns = llama_filter_columns_by_keywords(keyword_string, pruned_columns, keywords)\n",
    "\n",
    "if llm_filtered_columns:\n",
    "    pretty_print_list(\"Filtered Columns (LLM)\", llm_filtered_columns)\n",
    "else:\n",
    "    print(\"No columns passed the LLM filtering step\")"
   ]
  },
  {
   "cell_type": "code",
   "execution_count": 7,
   "id": "a543308e",
   "metadata": {},
   "outputs": [
    {
     "name": "stdout",
     "output_type": "stream",
     "text": [
      "\n",
      "============================================================\n",
      "Step 5: LLM-based table linking (using filtered columns)...\n",
      "============================================================\n"
     ]
    },
    {
     "name": "stderr",
     "output_type": "stream",
     "text": [
      "c:\\Workspace\\NL2SQL\\venv\\lib\\site-packages\\urllib3\\connectionpool.py:1097: InsecureRequestWarning: Unverified HTTPS request is being made to host '192.168.102.17'. Adding certificate verification is strongly advised. See: https://urllib3.readthedocs.io/en/latest/advanced-usage.html#tls-warnings\n",
      "  warnings.warn(\n"
     ]
    },
    {
     "name": "stdout",
     "output_type": "stream",
     "text": [
      "\n",
      "Linked Tables (LLM):\n",
      "1. ba_liqiva\n",
      "2. ba_diceme_2020_m\n",
      "3. ba_regiva\n",
      "4. ba_tmpnoseqiva\n",
      "5. ba_tmpcastiva\n",
      "6. ba_mycomp2\n",
      "7. ba_ivareg\n",
      "8. ba_rifatt\n",
      "9. ba_tmpregiva\n",
      "10. ei_reportvat\n",
      "11. ei_reportvat_par\n",
      "12. ei_reportvat_m\n",
      "13. ba_tmpesidif\n",
      "14. ba_tmpliqiva\n",
      "15. ba_tmpliqiva2\n"
     ]
    }
   ],
   "source": [
    "# 🧮 Step 5: Table Linking via LLM\n",
    "print_header(\"Step 5: LLM-based table linking (using filtered columns)...\")\n",
    "candidate_tables = list(set([col.split('.')[0] for col in llm_filtered_columns]))\n",
    "\n",
    "linked_tables = llama_table_linking(question, candidate_tables)\n",
    "\n",
    "if linked_tables:\n",
    "    pretty_print_list(\"Linked Tables (LLM)\", linked_tables)\n",
    "else:\n",
    "    print(\"No tables linked by LLM\")"
   ]
  },
  {
   "cell_type": "code",
   "execution_count": 8,
   "id": "c3598265",
   "metadata": {},
   "outputs": [
    {
     "name": "stdout",
     "output_type": "stream",
     "text": [
      "\n",
      "============================================================\n",
      "Step 6: LLM-based final column linking...\n",
      "============================================================\n"
     ]
    },
    {
     "name": "stderr",
     "output_type": "stream",
     "text": [
      "c:\\Workspace\\NL2SQL\\venv\\lib\\site-packages\\urllib3\\connectionpool.py:1097: InsecureRequestWarning: Unverified HTTPS request is being made to host '192.168.102.17'. Adding certificate verification is strongly advised. See: https://urllib3.readthedocs.io/en/latest/advanced-usage.html#tls-warnings\n",
      "  warnings.warn(\n"
     ]
    },
    {
     "name": "stdout",
     "output_type": "stream",
     "text": [
      "\n",
      "============================================================\n",
      "Final Result\n",
      "============================================================\n",
      "Question: Quali attività IVA risultano ancora valide nel 2024?\n",
      "\n",
      "Keywords:\n",
      "1. Attività\n",
      "2. IVA\n",
      "3. 2024\n",
      "4. risultano\n",
      "5. valida\n",
      "\n",
      "Linked Tables (LLM):\n",
      "1. ba_ivareg\n",
      "2. ei_tmpcastiva\n",
      "3. ba_diceme_2020_m\n",
      "4. ei_reportvat\n",
      "5. ba_tmpliqiva\n",
      "6. ei_reportvat_m\n",
      "7. ba_tmpregiva\n",
      "8. ba_diceme_m\n",
      "\n",
      "Linked Columns (LLM):\n",
      "1. - ei_reportvat_m.VPPARIVA\n",
      "2. - ba_tmpliqiva.LITOTIVA2\n",
      "3. - ei_reportvat.VPIDEB12\n",
      "4. - ei_reportvat.VPIDEB12_CS\n",
      "5. - ei_reportvat.VPIMPOR6\n",
      "6. - ei_reportvat.VPICRE12\n",
      "7. - ba_tmpliqiva.LITOTIND\n",
      "8. - ba_tmpliqiva.LITOTDET\n",
      "9. - ba_tmpregiva.SRPROIND\n",
      "10. - ba_tmpregiva.SRIVAIND\n",
      "11. - ba_tmpliqiva.LIPROIND\n",
      "12. - ba_tmpliqiva.LIPRODET\n",
      "13. - ba_diceme_2020_m.DECOMPLA\n",
      "14. - ba_diceme_m.DECOMPLA\n"
     ]
    }
   ],
   "source": [
    "# 🔗 Step 6: Final Column Linking\n",
    "print_header(\"Step 6: LLM-based final column linking...\")\n",
    "final_columns = [col for col in llm_filtered_columns if col.split('.')[0] in linked_tables]\n",
    "linked_columns = llama_column_linking(keyword_string, final_columns)\n",
    "\n",
    "if linked_columns:\n",
    "    print_summary(question, keywords, linked_tables, linked_columns)\n",
    "else:\n",
    "    print(\"No columns linked by LLM\")"
   ]
  }
 ],
 "metadata": {
  "kernelspec": {
   "display_name": "venv",
   "language": "python",
   "name": "python3"
  },
  "language_info": {
   "codemirror_mode": {
    "name": "ipython",
    "version": 3
   },
   "file_extension": ".py",
   "mimetype": "text/x-python",
   "name": "python",
   "nbconvert_exporter": "python",
   "pygments_lexer": "ipython3",
   "version": "3.10.11"
  }
 },
 "nbformat": 4,
 "nbformat_minor": 5
}
