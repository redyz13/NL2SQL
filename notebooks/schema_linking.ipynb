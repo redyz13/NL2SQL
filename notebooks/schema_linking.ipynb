{
 "cells": [
  {
   "cell_type": "code",
   "execution_count": 1,
   "id": "d477aa50",
   "metadata": {},
   "outputs": [],
   "source": [
    "# 🔧 Setup & Import\n",
    "import sys\n",
    "import os\n",
    "\n",
    "sys.path.append(\n",
    "    os.path.join(\n",
    "        os.path.abspath(os.path.join(os.getcwd(), \"..\")) , \"src\"\n",
    "    )\n",
    ")\n",
    "\n",
    "from schema_linking.schema.extract_schema import extract_column_texts\n",
    "from schema_linking.keywords.keyword_extractor import llama_keyword_extraction\n",
    "from schema_linking.retrieval.retriever import build_or_load_index, retrieve_top_k\n",
    "from schema_linking.llm.llama_linker import llama_table_linking, llama_column_linking, llama_filter_columns_by_keywords\n",
    "from schema_linking.utils.printer import (\n",
    "    print_header,\n",
    "    print_keywords,\n",
    "    pretty_print_list,\n",
    "    print_summary\n",
    ")\n",
    "from schema_linking.config.config import TOP_K_COLUMNS"
   ]
  },
  {
   "cell_type": "code",
   "execution_count": 2,
   "id": "d3f7f173",
   "metadata": {},
   "outputs": [
    {
     "name": "stdout",
     "output_type": "stream",
     "text": [
      "\n",
      "============================================================\n",
      "Input\n",
      "============================================================\n",
      "Question: Quali attività IVA risultano ancora valide nel 2024?\n"
     ]
    }
   ],
   "source": [
    "# ✍️ Input della Query\n",
    "print_header(\"Input\")\n",
    "question = \"Quali attività IVA risultano ancora valide nel 2024?\"\n",
    "print(f\"Question: {question}\")"
   ]
  },
  {
   "cell_type": "code",
   "execution_count": 3,
   "id": "36506563",
   "metadata": {},
   "outputs": [
    {
     "name": "stdout",
     "output_type": "stream",
     "text": [
      "\n",
      "============================================================\n",
      "Step 1: Extracting keywords using LLM...\n",
      "============================================================\n"
     ]
    },
    {
     "name": "stderr",
     "output_type": "stream",
     "text": [
      "c:\\Workspace\\NL2SQL\\venv\\lib\\site-packages\\urllib3\\connectionpool.py:1097: InsecureRequestWarning: Unverified HTTPS request is being made to host '192.168.102.17'. Adding certificate verification is strongly advised. See: https://urllib3.readthedocs.io/en/latest/advanced-usage.html#tls-warnings\n",
      "  warnings.warn(\n"
     ]
    },
    {
     "name": "stdout",
     "output_type": "stream",
     "text": [
      "\n",
      "Keywords:\n",
      "1. IVA\n",
      "2. attività\n",
      "3. risultano\n",
      "4. valida\n",
      "5. 2024\n"
     ]
    }
   ],
   "source": [
    "# 🔍 Step 1: Extracting keywords using LLM...\n",
    "print_header(\"Step 1: Extracting keywords using LLM...\")\n",
    "keywords = llama_keyword_extraction(question)\n",
    "print_keywords(keywords)\n",
    "keyword_string = \" \".join(keywords)"
   ]
  },
  {
   "cell_type": "code",
   "execution_count": 4,
   "id": "332b1f94",
   "metadata": {},
   "outputs": [
    {
     "name": "stdout",
     "output_type": "stream",
     "text": [
      "\n",
      "============================================================\n",
      "Step 2: Loading schema...\n",
      "============================================================\n",
      "Loaded 47388 columns\n"
     ]
    }
   ],
   "source": [
    "# 🧱 Step 2: Schema extraction\n",
    "print_header(\"Step 2: Loading schema...\")\n",
    "column_texts = extract_column_texts()\n",
    "print(f\"Loaded {len(column_texts)} columns\")"
   ]
  },
  {
   "cell_type": "code",
   "execution_count": 5,
   "id": "025458fd",
   "metadata": {},
   "outputs": [
    {
     "name": "stdout",
     "output_type": "stream",
     "text": [
      "\n",
      "============================================================\n",
      "Step 3: FAISS column pruning (top 50) using keywords...\n",
      "============================================================\n",
      "Loading FAISS index from disk → c:\\Workspace\\NL2SQL\\data\\faiss_columns.bin\n",
      "\n",
      "Pruned Columns (FAISS):\n",
      "1. ba_annint.CICODIVA: Codice IVA intestatario (tabella: IS - Dati per anno)\n",
      "2. ei_reportvat.VPIDEB12: IVA dovuta (tabella: EI - Liquidazione dati contabili)\n",
      "3. ba_tmpregiva.SRTOTIND: Totale IVA indetraibile (tabella: CG - TMP Stampa registri IVA)\n",
      "4. ba_tmpliqiva2.LIIVAIVA: Credito IVA su IVA (tabella: CG - TMP Liquidazione IVA 2)\n",
      "5. ba_tmpliqiva.LITOTIND: Totale IVA indetraibile (tabella: CG - TMP Liquidazione IVA)\n",
      "6. ba_dettliqiva.LIPROIND: Progressivo IVA indetraibile (tabella: CG - Dettaglio liquidazione)\n",
      "7. ei_reportvat.VPIMPOR6: IVA detratta (tabella: EI - Liquidazione dati contabili)\n",
      "8. ba_tmpregiva.SRPROIND: Progressivo IVA indetraibile (tabella: CG - TMP Stampa registri IVA)\n",
      "9. ei_reportvat.VPIDEB12_C: IVA dovuta (tabella: EI - Liquidazione dati contabili)\n",
      "10. ba_liqiva.LIACCIVA: Acconto IVA (tabella: CG - Liquidazione Iva)\n",
      "11. ei_rifnoriva.RNNORIVA: Norma IVA da utilizzare (tabella: FATEL - Riferimento normativo IVA)\n",
      "12. ei_reportvat_m.VPPARCON: Partita IVA controllante (tabella: EI - Liquidazioni frontespizio)\n",
      "13. ba_dettliqiva.LIPRODET: Progressivo IVA detraibile (tabella: CG - Dettaglio liquidazione)\n",
      "14. ei_reportvat.VPIDEB12S: IVA dovuta(stringa) (tabella: EI - Liquidazione dati contabili)\n",
      "15. ei_tmpcastiva.CIIMPON2: Imponibile IVA in valuta di conto (tabella: EI - Castelletto Iva primanota)\n",
      "16. ba_ivaann.IASTOPER: Percentuale per il calcolo dell'anticipo IVA con il metodo storico (tabella: CG - Dati annuali Iva - Azienda)\n",
      "17. ba_tmpesidif.PTTOTIND: Totale IVA indetraibile (tabella: CG - TMP Registrazioni Iva esig.differita)\n",
      "18. ei_reportvat_m.VPCODATT: Attivit� IVA (tabella: EI - Liquidazioni frontespizio)\n",
      "19. ba_tmpliqiva.LITOTDET: Totale IVA detraibile (tabella: CG - TMP Liquidazione IVA)\n",
      "20. ba_tmpliqiva.LITOTIVA2: Totale IVA acquisti (tabella: CG - TMP Liquidazione IVA)\n",
      "21. ba_regmar.RMIVADOV: IVA dovuta (tabella: CG - Regime del margine)\n",
      "22. ei_reportvat.VPIMPOR6S: IVA detratta(stringa) (tabella: EI - Liquidazione dati contabili)\n",
      "23. ei_reportvat_par.VPPARIVA: Partita IVA del contribuente (tabella: EI - Parametri per Liquidazioni)\n",
      "24. ei_reportvat_par.VPPARCON: Partita IVA controllante (tabella: EI - Parametri per Liquidazioni)\n",
      "25. ei_reportvat_m.VPPARIVA: Partita IVA del contribuente (tabella: EI - Liquidazioni frontespizio)\n",
      "26. ei_reportvat.VPIMPOR5S: IVA esigibile(stringa) (tabella: EI - Liquidazione dati contabili)\n",
      "27. ba_tmpcastiva.CIIMPON2: Imponibile IVA in valuta di conto (tabella: CG - Castelletto Iva primanota)\n",
      "28. ba_tmpliqiva.LIPROIND: Progressivo IVA indetraibile (tabella: CG - TMP Liquidazione IVA)\n",
      "29. ri_dettsy_2022.CHRITIMP: Ritenute a titolo d'imposta (tabella: 770 - Dettaglio prospetto SY 2022 - record H(dati fiscali))\n",
      "30. ba_ivareg.RICODATT: Codice attivit� IVA (tabella: CG - Codici IVA per registro)\n",
      "31. ba_dettliqiva.LITIPIVA: Tipo registro IVA (tabella: CG - Dettaglio liquidazione)\n",
      "32. ba_diceme_2020_m.DECOMPLA: Plafond - Dichiarazione annuale IVA presentata (tabella: CG - Comunicazione lettere di intento emesse 2020 (Master))\n",
      "33. ba_tmpnoseqiva.SQTOTIVA: Totale IVA (tabella: CG - TMP Registrazioni fuori sequenza)\n",
      "34. ba_ivareg.RICODIVA: Codice IVA (tabella: CG - Codici IVA per registro)\n",
      "35. ri_dettsy_2022.CHRIIMSO: Ritenute a titolo d'imposta (tabella: 770 - Dettaglio prospetto SY 2022 - record H(dati fiscali))\n",
      "36. ba_tmpliqiva2.LIACCIVA: Acconto IVA (tabella: CG - TMP Liquidazione IVA 2)\n",
      "37. ei_reportvat.VPIDEB12_CS: IVA dovuta(stringa) (tabella: EI - Liquidazione dati contabili)\n",
      "38. ba_tmpregiva.SRIVAIND: IVA indetraibile (tabella: CG - TMP Stampa registri IVA)\n",
      "39. ei_reportvat.VPICRE12: IVA a credito (tabella: EI - Liquidazione dati contabili)\n",
      "40. ba_tmpliqiva.LITOTIVA3: Totale IVA vendite (tabella: CG - TMP Liquidazione IVA)\n",
      "41. ba_rifatt.RACODIVI: Riferimento attivit� IVA ISTAT (tabella: CG - Riferimenti ad attivit� ISTAT)\n",
      "42. ba_tmpliqiva2.LICVP17D: Totale iva a debito (tabella: CG - TMP Liquidazione IVA 2)\n",
      "43. ba_mycomp2.SCCONGRM: Conto IVA vendite per giroconto regime del margine (tabella: CO - Specializzazioni per Company)\n",
      "44. ba_regiva.RICODATT: Codice attivit� IVA (tabella: CG - Registri IVA)\n",
      "45. ri_dettsy_2022.CHRITOPE: Ritenute operate(riservata al soggetto erogatore delle somme) (tabella: 770 - Dettaglio prospetto SY 2022 - record H(dati fiscali))\n",
      "46. ba_tmpliqiva.LIPRODET: Progressivo IVA detraibile (tabella: CG - TMP Liquidazione IVA)\n",
      "47. ba_tmpliqiva2.LICVPCPP: Credito IVA periodo precedente (tabella: CG - TMP Liquidazione IVA 2)\n",
      "48. ba_mycomp2.SCTIPREG: Tipo registro IVA per numerazione (tabella: CO - Specializzazioni per Company)\n",
      "49. ba_rifatt.RACODIVA: Codice attivit� IVA azienda (tabella: CG - Riferimenti ad attivit� ISTAT)\n",
      "50. ei_prinot_m.EINAZFIS: Codice nazione per  identificazione fiscale ai fini IVA (cliente/fornitore) (tabella: FATEL - Estensione dati testata primanota)\n"
     ]
    }
   ],
   "source": [
    "# 🧠 Step 3: FAISS Pruning\n",
    "print_header(f\"Step 3: FAISS column pruning (top {TOP_K_COLUMNS}) using keywords...\")\n",
    "column_index, column_map = build_or_load_index(column_texts)\n",
    "pruned_columns = retrieve_top_k(column_index, column_map, keyword_string, TOP_K_COLUMNS)\n",
    "\n",
    "if pruned_columns:\n",
    "    pretty_print_list(\"Pruned Columns (FAISS)\", pruned_columns)\n",
    "else:\n",
    "    print(\"No columns found\")"
   ]
  },
  {
   "cell_type": "code",
   "execution_count": 6,
   "id": "2c5c5394",
   "metadata": {},
   "outputs": [
    {
     "name": "stdout",
     "output_type": "stream",
     "text": [
      "\n",
      "============================================================\n",
      "Step 4: LLM filtering on pruned columns...\n",
      "============================================================\n"
     ]
    },
    {
     "name": "stderr",
     "output_type": "stream",
     "text": [
      "c:\\Workspace\\NL2SQL\\venv\\lib\\site-packages\\urllib3\\connectionpool.py:1097: InsecureRequestWarning: Unverified HTTPS request is being made to host '192.168.102.17'. Adding certificate verification is strongly advised. See: https://urllib3.readthedocs.io/en/latest/advanced-usage.html#tls-warnings\n",
      "  warnings.warn(\n"
     ]
    },
    {
     "name": "stdout",
     "output_type": "stream",
     "text": [
      "\n",
      "Filtered Columns (LLM):\n",
      "1. - ba_ivareg.RICODATT\n",
      "2. - ba_ivareg.RICODIVA\n",
      "3. - ba_regiva.RICODATT\n",
      "4. - ri_dettsy_2022.CHRITOPE\n",
      "5. - ri_dettsy_2022.CHRIIMSO\n",
      "6. - ba_rifatt.RACODIVI\n",
      "7. - ba_rifatt.RACODIVA\n",
      "8. - ba_diceme_2020_m.DECOMPLA\n",
      "9. - ei_reportvat.VPIMPOR6\n",
      "10. - ei_reportvat.VPIDEB12\n",
      "11. - ei_reportvat.VPIDEB12_C\n",
      "12. - ei_reportvat.VPIDEB12S\n",
      "13. - ei_reportvat.VPIMPOR5S\n",
      "14. - ei_reportvat.VPIMPOR6S\n",
      "15. - ei_reportvat.VPICRE12\n",
      "16. - ba_tmpregiva.SRPROIND\n",
      "17. - ba_tmpregiva.SRIVAIND\n",
      "18. - ba_tmpregiva.SRTOTIND\n",
      "19. - ba_tmpesidif.PTTOTIND\n",
      "20. - ba_tmpnoseqiva.SQTOTIVA\n",
      "21. - ba_tmpcastiva.CIIMPON2\n",
      "22. - ba_tmpcastiva.CIIMPON2\n",
      "23. - ba_tmpliqiva.LIPROIND\n",
      "24. - ba_tmpliqiva.LIPRODET\n",
      "25. - ba_tmpliqiva.LITOTIND\n",
      "26. - ba_tmpliqiva.LITOTDET\n",
      "27. - ba_tmpliqiva.LITOTIVA2\n",
      "28. - ba_tmpliqiva.LITOTIVA3\n",
      "29. - ba_tmpliqiva2.LIIVAIVA\n",
      "30. - ba_tmpliqiva2.LICVP17D\n",
      "31. - ba_tmpliqiva2.LICVPCPP\n",
      "32. - ba_tmpliqiva2.LIACCIVA\n",
      "33. - ba_liqiva.LIACCIVA\n",
      "34. - ba_mycomp2.SCCONGRM\n",
      "35. - ei_reportvat.VPIMPOR6\n",
      "36. - ei_reportvat.VPIDEB12\n",
      "37. - ei_reportvat.VPIMPOR5S\n",
      "38. - ei_reportvat.VPIDEB12S\n",
      "39. - ei_reportvat.VPIDEB12_C\n",
      "40. - ei_reportvat_m.VPPARCON\n",
      "41. - ei_reportvat_m.VPPARIVA\n",
      "42. - ei_reportvat_par.VPPARCON\n",
      "43. - ei_reportvat_par.VPPARIVA\n"
     ]
    }
   ],
   "source": [
    "# 🧠 Step 4: LLM filtering on pruned columns\n",
    "print_header(\"Step 4: LLM filtering on pruned columns...\")\n",
    "llm_filtered_columns = llama_filter_columns_by_keywords(keyword_string, pruned_columns, keywords)\n",
    "\n",
    "if llm_filtered_columns:\n",
    "    pretty_print_list(\"Filtered Columns (LLM)\", llm_filtered_columns)\n",
    "else:\n",
    "    print(\"No columns passed the LLM filtering step\")"
   ]
  },
  {
   "cell_type": "code",
   "execution_count": 7,
   "id": "a543308e",
   "metadata": {},
   "outputs": [
    {
     "name": "stdout",
     "output_type": "stream",
     "text": [
      "\n",
      "============================================================\n",
      "Step 5: LLM-based table linking (using filtered columns)...\n",
      "============================================================\n"
     ]
    },
    {
     "name": "stderr",
     "output_type": "stream",
     "text": [
      "c:\\Workspace\\NL2SQL\\venv\\lib\\site-packages\\urllib3\\connectionpool.py:1097: InsecureRequestWarning: Unverified HTTPS request is being made to host '192.168.102.17'. Adding certificate verification is strongly advised. See: https://urllib3.readthedocs.io/en/latest/advanced-usage.html#tls-warnings\n",
      "  warnings.warn(\n"
     ]
    },
    {
     "name": "stdout",
     "output_type": "stream",
     "text": [
      "\n",
      "Linked Tables (LLM):\n",
      "1. ba_liqiva\n",
      "2. ba_diceme_2020_m\n",
      "3. ba_regiva\n",
      "4. ba_tmpnoseqiva\n",
      "5. ba_tmpcastiva\n",
      "6. ba_mycomp2\n",
      "7. ba_ivareg\n",
      "8. ba_rifatt\n",
      "9. ba_tmpregiva\n",
      "10. ei_reportvat\n",
      "11. ei_reportvat_par\n",
      "12. ei_reportvat_m\n",
      "13. ba_tmpesidif\n",
      "14. ba_tmpliqiva\n",
      "15. ba_tmpliqiva2\n"
     ]
    }
   ],
   "source": [
    "# 🧮 Step 5: Table Linking via LLM\n",
    "print_header(\"Step 5: LLM-based table linking (using filtered columns)...\")\n",
    "candidate_tables = list(set([col.split('.')[0] for col in llm_filtered_columns]))\n",
    "\n",
    "linked_tables = llama_table_linking(question, candidate_tables)\n",
    "\n",
    "if linked_tables:\n",
    "    pretty_print_list(\"Linked Tables (LLM)\", linked_tables)\n",
    "else:\n",
    "    print(\"No tables linked by LLM\")"
   ]
  },
  {
   "cell_type": "code",
   "execution_count": 8,
   "id": "c3598265",
   "metadata": {},
   "outputs": [
    {
     "name": "stdout",
     "output_type": "stream",
     "text": [
      "\n",
      "============================================================\n",
      "Step 6: LLM-based final column linking...\n",
      "============================================================\n"
     ]
    },
    {
     "name": "stderr",
     "output_type": "stream",
     "text": [
      "c:\\Workspace\\NL2SQL\\venv\\lib\\site-packages\\urllib3\\connectionpool.py:1097: InsecureRequestWarning: Unverified HTTPS request is being made to host '192.168.102.17'. Adding certificate verification is strongly advised. See: https://urllib3.readthedocs.io/en/latest/advanced-usage.html#tls-warnings\n",
      "  warnings.warn(\n"
     ]
    },
    {
     "name": "stdout",
     "output_type": "stream",
     "text": [
      "\n",
      "============================================================\n",
      "Final Result\n",
      "============================================================\n",
      "Question: Quali attività IVA risultano ancora valide nel 2024?\n",
      "\n",
      "Keywords:\n",
      "1. Attività\n",
      "2. IVA\n",
      "3. 2024\n",
      "4. risultano\n",
      "5. valida\n",
      "\n",
      "Linked Tables (LLM):\n",
      "1. ba_ivareg\n",
      "2. ei_tmpcastiva\n",
      "3. ba_diceme_2020_m\n",
      "4. ei_reportvat\n",
      "5. ba_tmpliqiva\n",
      "6. ei_reportvat_m\n",
      "7. ba_tmpregiva\n",
      "8. ba_diceme_m\n",
      "\n",
      "Linked Columns (LLM):\n",
      "1. - ei_reportvat_m.VPPARIVA\n",
      "2. - ba_tmpliqiva.LITOTIVA2\n",
      "3. - ei_reportvat.VPIDEB12\n",
      "4. - ei_reportvat.VPIDEB12_CS\n",
      "5. - ei_reportvat.VPIMPOR6\n",
      "6. - ei_reportvat.VPICRE12\n",
      "7. - ba_tmpliqiva.LITOTIND\n",
      "8. - ba_tmpliqiva.LITOTDET\n",
      "9. - ba_tmpregiva.SRPROIND\n",
      "10. - ba_tmpregiva.SRIVAIND\n",
      "11. - ba_tmpliqiva.LIPROIND\n",
      "12. - ba_tmpliqiva.LIPRODET\n",
      "13. - ba_diceme_2020_m.DECOMPLA\n",
      "14. - ba_diceme_m.DECOMPLA\n"
     ]
    }
   ],
   "source": [
    "# 🔗 Step 6: Final Column Linking\n",
    "print_header(\"Step 6: LLM-based final column linking...\")\n",
    "final_columns = [col for col in llm_filtered_columns if col.split('.')[0] in linked_tables]\n",
    "linked_columns = llama_column_linking(keyword_string, final_columns)\n",
    "\n",
    "if linked_columns:\n",
    "    print_summary(question, keywords, linked_tables, linked_columns)\n",
    "else:\n",
    "    print(\"No columns linked by LLM\")"
   ]
  }
 ],
 "metadata": {
  "kernelspec": {
   "display_name": "venv",
   "language": "python",
   "name": "python3"
  },
  "language_info": {
   "codemirror_mode": {
    "name": "ipython",
    "version": 3
   },
   "file_extension": ".py",
   "mimetype": "text/x-python",
   "name": "python",
   "nbconvert_exporter": "python",
   "pygments_lexer": "ipython3",
   "version": "3.10.11"
  }
 },
 "nbformat": 4,
 "nbformat_minor": 5
}
